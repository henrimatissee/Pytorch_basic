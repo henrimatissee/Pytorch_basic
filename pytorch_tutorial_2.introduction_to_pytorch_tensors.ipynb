{
 "cells": [
  {
   "cell_type": "markdown",
   "id": "a1f5354b-da54-4d91-b0aa-c2e42b70ab5b",
   "metadata": {},
   "source": [
    "## Introduction to Pytorch Tensors"
   ]
  },
  {
   "cell_type": "markdown",
   "id": "bbdf862a-71a5-4a68-b5cb-5052fdc1c685",
   "metadata": {},
   "source": [
    "### Creating Tensors"
   ]
  },
  {
   "cell_type": "code",
   "execution_count": 3,
   "id": "188589b9-9085-48c0-b988-a14becd27d45",
   "metadata": {},
   "outputs": [],
   "source": [
    "import torch\n",
    "import math"
   ]
  },
  {
   "cell_type": "code",
   "execution_count": 4,
   "id": "1519e99a-df88-46ee-9a1f-995b5b5b9e86",
   "metadata": {},
   "outputs": [
    {
     "name": "stdout",
     "output_type": "stream",
     "text": [
      "<class 'torch.Tensor'>\n",
      "tensor([[0., 0., 0., 0.],\n",
      "        [0., 0., 0., 0.],\n",
      "        [0., 0., 0., 0.]])\n"
     ]
    }
   ],
   "source": [
    "# 텐서 생성\n",
    "x = torch.empty(3, 4) # 2차원 텐서 = 행렬\n",
    "print(type(x))\n",
    "print(x)"
   ]
  },
  {
   "cell_type": "code",
   "execution_count": 5,
   "id": "7a07b58f-e5ce-405c-b83b-15a0c4e9fa7c",
   "metadata": {},
   "outputs": [
    {
     "name": "stdout",
     "output_type": "stream",
     "text": [
      "tensor([[0., 0., 0.],\n",
      "        [0., 0., 0.]])\n",
      "tensor([[1., 1., 1.],\n",
      "        [1., 1., 1.]])\n",
      "tensor([[0.3126, 0.3791, 0.3087],\n",
      "        [0.0736, 0.4216, 0.0691]])\n"
     ]
    }
   ],
   "source": [
    "zeros = torch.zeros(2, 3) # 0으로 채워진 텐서\n",
    "print(zeros)\n",
    "\n",
    "ones = torch.ones(2, 3) # 1로 채워진 텐서\n",
    "print(ones)\n",
    "\n",
    "torch.manual_seed(1729)\n",
    "random = torch.rand(2, 3) # 0~1 사이의 랜덤값으로 채워진 텐서\n",
    "print(random)"
   ]
  },
  {
   "cell_type": "markdown",
   "id": "02f8ffb0-55b7-4c1b-b427-747e01eb895c",
   "metadata": {},
   "source": [
    "### Random Tensors and Seeding"
   ]
  },
  {
   "cell_type": "code",
   "execution_count": 6,
   "id": "4a7d5216-c02e-43f1-8bab-1e8c2511e128",
   "metadata": {},
   "outputs": [
    {
     "name": "stdout",
     "output_type": "stream",
     "text": [
      "tensor([[0.3126, 0.3791, 0.3087],\n",
      "        [0.0736, 0.4216, 0.0691]])\n",
      "tensor([[0.2332, 0.4047, 0.2162],\n",
      "        [0.9927, 0.4128, 0.5938]])\n",
      "tensor([[0.3126, 0.3791, 0.3087],\n",
      "        [0.0736, 0.4216, 0.0691]])\n",
      "tensor([[0.2332, 0.4047, 0.2162],\n",
      "        [0.9927, 0.4128, 0.5938]])\n"
     ]
    }
   ],
   "source": [
    "torch.manual_seed(1729)\n",
    "random1 = torch.rand(2, 3)\n",
    "print(random1)\n",
    "\n",
    "random2 = torch.rand(2, 3)\n",
    "print(random2)\n",
    "\n",
    "torch.manual_seed(1729)\n",
    "random3 = torch.rand(2, 3)\n",
    "print(random3)\n",
    "\n",
    "random4 = torch.rand(2, 3)\n",
    "print(random4)"
   ]
  },
  {
   "cell_type": "markdown",
   "id": "c274be80-df2f-4d5a-9f43-a3057a26fc9a",
   "metadata": {},
   "source": [
    "### Tensor Shapes"
   ]
  },
  {
   "cell_type": "markdown",
   "id": "a6da7b85-238c-43f6-a415-686fa552dbe7",
   "metadata": {},
   "source": [
    "동일한 차원과 각 차원의 셀 수가 동일해야하는 경우 >> torch.*_like() 사용"
   ]
  },
  {
   "cell_type": "code",
   "execution_count": 7,
   "id": "88487fe5-fb36-43e4-863a-13f0dda8dd82",
   "metadata": {},
   "outputs": [
    {
     "name": "stdout",
     "output_type": "stream",
     "text": [
      "torch.Size([2, 2, 3])\n",
      "tensor([[[0., 0., 0.],\n",
      "         [0., 0., 0.]],\n",
      "\n",
      "        [[0., 0., 0.],\n",
      "         [0., 0., 0.]]])\n",
      "torch.Size([2, 2, 3])\n",
      "tensor([[[0., 0., 0.],\n",
      "         [0., 0., 0.]],\n",
      "\n",
      "        [[0., 0., 0.],\n",
      "         [0., 0., 0.]]])\n",
      "torch.Size([2, 2, 3])\n",
      "tensor([[[0., 0., 0.],\n",
      "         [0., 0., 0.]],\n",
      "\n",
      "        [[0., 0., 0.],\n",
      "         [0., 0., 0.]]])\n",
      "torch.Size([2, 2, 3])\n",
      "tensor([[[1., 1., 1.],\n",
      "         [1., 1., 1.]],\n",
      "\n",
      "        [[1., 1., 1.],\n",
      "         [1., 1., 1.]]])\n",
      "torch.Size([2, 2, 3])\n",
      "tensor([[[0.6128, 0.1519, 0.0453],\n",
      "         [0.5035, 0.9978, 0.3884]],\n",
      "\n",
      "        [[0.6929, 0.1703, 0.1384],\n",
      "         [0.4759, 0.7481, 0.0361]]])\n"
     ]
    }
   ],
   "source": [
    "x = torch.empty(2, 2, 3)\n",
    "print(x.shape)\n",
    "print(x)\n",
    "\n",
    "empty_like_x = torch.empty_like(x)\n",
    "print(empty_like_x.shape)\n",
    "print(empty_like_x)\n",
    "\n",
    "zeros_like_x = torch.zeros_like(x)\n",
    "print(zeros_like_x.shape)\n",
    "print(zeros_like_x)\n",
    "\n",
    "ones_like_x = torch.ones_like(x)\n",
    "print(ones_like_x.shape)\n",
    "print(ones_like_x)\n",
    "\n",
    "rand_like_x = torch.rand_like(x)\n",
    "print(rand_like_x.shape)\n",
    "print(rand_like_x)"
   ]
  },
  {
   "cell_type": "code",
   "execution_count": 8,
   "id": "103bce49-56ef-4ef1-a59e-5363f2867c4d",
   "metadata": {},
   "outputs": [
    {
     "name": "stdout",
     "output_type": "stream",
     "text": [
      "tensor([[3.1416, 2.7183],\n",
      "        [1.6180, 0.0073]])\n",
      "tensor([ 2,  3,  5,  7, 11, 13, 17, 19])\n",
      "tensor([[2, 4, 6],\n",
      "        [3, 6, 9]])\n"
     ]
    }
   ],
   "source": [
    "# 직접 데이터 지정하여 텐서 제작\n",
    "some_constants = torch.tensor([[3.1415926, 2.71828], [1.61803, 0.0072897]])\n",
    "print(some_constants)\n",
    "\n",
    "some_integers = torch.tensor((2, 3, 5, 7, 11, 13, 17, 19))\n",
    "print(some_integers)\n",
    "\n",
    "more_integers = torch.tensor(((2, 4, 6), [3, 6, 9]))\n",
    "print(more_integers)"
   ]
  },
  {
   "cell_type": "markdown",
   "id": "2d991e9b-4103-46e1-93fb-4946de401e23",
   "metadata": {},
   "source": [
    "### Tensor Data Types"
   ]
  },
  {
   "cell_type": "code",
   "execution_count": 9,
   "id": "73f0f524-a14f-4074-a016-0f3cdd74d185",
   "metadata": {},
   "outputs": [
    {
     "name": "stdout",
     "output_type": "stream",
     "text": [
      "tensor([[1, 1, 1],\n",
      "        [1, 1, 1]], dtype=torch.int16)\n",
      "tensor([[ 0.9956,  1.4148,  5.8364],\n",
      "        [11.2406, 11.2083, 11.6692]], dtype=torch.float64)\n",
      "tensor([[ 0,  1,  5],\n",
      "        [11, 11, 11]], dtype=torch.int32)\n"
     ]
    }
   ],
   "source": [
    "a = torch.ones((2, 3), dtype=torch.int16)\n",
    "print(a)\n",
    "\n",
    "b = torch.rand((2, 3), dtype=torch.float64) * 20.\n",
    "print(b)\n",
    "\n",
    "c = b.to(torch.int32)\n",
    "print(c)"
   ]
  },
  {
   "cell_type": "markdown",
   "id": "81f03d85-30a2-40a4-974b-e4b7cbf73cef",
   "metadata": {},
   "source": [
    "사용 가능한 데이터 유형은 아래와 같음\n",
    "\n",
    "* torch.bool\n",
    "\n",
    "* torch.int8\n",
    "\n",
    "* torch.uint8\n",
    "\n",
    "* torch.int16\n",
    "\n",
    "* torch.int32\n",
    "\n",
    "* torch.int64\n",
    "\n",
    "* torch.half\n",
    "\n",
    "* torch.float\n",
    "\n",
    "* torch.double\n",
    "\n",
    "* torch.bfloat"
   ]
  },
  {
   "cell_type": "markdown",
   "id": "a94127d1-ba49-43b0-9190-0fff758b1fd2",
   "metadata": {},
   "source": [
    "### Math & Logic with PyTorch Tensors"
   ]
  },
  {
   "cell_type": "code",
   "execution_count": 10,
   "id": "92491e9c-3995-46d6-959c-73ad43a6b486",
   "metadata": {},
   "outputs": [
    {
     "name": "stdout",
     "output_type": "stream",
     "text": [
      "tensor([[1., 1.],\n",
      "        [1., 1.]])\n",
      "tensor([[2., 2.],\n",
      "        [2., 2.]])\n",
      "tensor([[3., 3.],\n",
      "        [3., 3.]])\n",
      "tensor([[4., 4.],\n",
      "        [4., 4.]])\n",
      "tensor([[1.4142, 1.4142],\n",
      "        [1.4142, 1.4142]])\n",
      "tensor([[ 2.,  4.],\n",
      "        [ 8., 16.]])\n",
      "tensor([[5., 5.],\n",
      "        [5., 5.]])\n",
      "tensor([[12., 12.],\n",
      "        [12., 12.]])\n"
     ]
    }
   ],
   "source": [
    "ones = torch.zeros(2, 2) + 1\n",
    "twos = torch.ones(2, 2) * 2\n",
    "threes = (torch.ones(2, 2) * 7 - 1) / 2\n",
    "fours = twos ** 2\n",
    "sqrt2s = twos ** 0.5\n",
    "\n",
    "print(ones)\n",
    "print(twos)\n",
    "print(threes)\n",
    "print(fours)\n",
    "print(sqrt2s)\n",
    "\n",
    "powers2 = twos ** torch.tensor([[1, 2], [3, 4]])\n",
    "print(powers2)\n",
    "\n",
    "fives = ones + fours\n",
    "print(fives)\n",
    "\n",
    "dozens = threes * fours\n",
    "print(dozens)"
   ]
  },
  {
   "cell_type": "code",
   "execution_count": 11,
   "id": "abb61f10-36bc-4dfe-96e0-fe5809f9488e",
   "metadata": {},
   "outputs": [
    {
     "ename": "RuntimeError",
     "evalue": "The size of tensor a (3) must match the size of tensor b (2) at non-singleton dimension 1",
     "output_type": "error",
     "traceback": [
      "\u001b[1;31m---------------------------------------------------------------------------\u001b[0m",
      "\u001b[1;31mRuntimeError\u001b[0m                              Traceback (most recent call last)",
      "Cell \u001b[1;32mIn[11], line 7\u001b[0m\n\u001b[0;32m      4\u001b[0m a \u001b[38;5;241m=\u001b[39m torch\u001b[38;5;241m.\u001b[39mrand(\u001b[38;5;241m2\u001b[39m, \u001b[38;5;241m3\u001b[39m)\n\u001b[0;32m      5\u001b[0m b \u001b[38;5;241m=\u001b[39m torch\u001b[38;5;241m.\u001b[39mrand(\u001b[38;5;241m3\u001b[39m, \u001b[38;5;241m2\u001b[39m)\n\u001b[1;32m----> 7\u001b[0m \u001b[38;5;28mprint\u001b[39m(\u001b[43ma\u001b[49m\u001b[43m \u001b[49m\u001b[38;5;241;43m*\u001b[39;49m\u001b[43m \u001b[49m\u001b[43mb\u001b[49m)\n",
      "\u001b[1;31mRuntimeError\u001b[0m: The size of tensor a (3) must match the size of tensor b (2) at non-singleton dimension 1"
     ]
    }
   ],
   "source": [
    "# 아래 셀은 오류를 발생시킨다. >> 오류 확인!\n",
    "# 모양이 다른 경우 텐서에서 이진 연산을 수행하려고 하니 에러가 나는 것을 볼 수 있음\n",
    "\n",
    "a = torch.rand(2, 3)\n",
    "b = torch.rand(3, 2)\n",
    "\n",
    "print(a * b)"
   ]
  },
  {
   "cell_type": "markdown",
   "id": "f8a78c3f-0a94-45c9-82e8-38922c2dee95",
   "metadata": {
    "tags": []
   },
   "source": [
    "### In Brief: Tensor Broadcasting"
   ]
  },
  {
   "cell_type": "markdown",
   "id": "881c9c43-85ca-449d-9962-ed5e06ae4273",
   "metadata": {},
   "source": [
    "텐서 브로드캐스팅\n",
    "\n",
    "> 모양이 유사한 텐서 간에 작업을 수행하는 방법\n",
    "\n",
    "> 딥러닝에서는 일반적으로 학습 가중치 텐서에 입력 텐서 배치를 곱하고 배치의 각 인스턴스에 개별적으로 작업 적용하고 동일한 모양의 텐서를 반환하는 것임\n",
    "\n",
    "> (ex) (2,4) * (1,4) = (2,4)"
   ]
  },
  {
   "cell_type": "code",
   "execution_count": 12,
   "id": "8a3e5c39-c9dd-46a8-97f4-30871d88d94c",
   "metadata": {},
   "outputs": [
    {
     "name": "stdout",
     "output_type": "stream",
     "text": [
      "tensor([[0.2024, 0.5731, 0.7191, 0.4067],\n",
      "        [0.7301, 0.6276, 0.7357, 0.0381]])\n",
      "tensor([[0.4049, 1.1461, 1.4382, 0.8134],\n",
      "        [1.4602, 1.2551, 1.4715, 0.0762]])\n"
     ]
    }
   ],
   "source": [
    "rand = torch.rand(2, 4)\n",
    "doubled = rand * (torch.ones(1, 4) * 2)\n",
    "\n",
    "print(rand)\n",
    "print(doubled)"
   ]
  },
  {
   "cell_type": "code",
   "execution_count": 13,
   "id": "b8bd8862-a80d-4ed7-aeab-5293cc0112f1",
   "metadata": {},
   "outputs": [
    {
     "name": "stdout",
     "output_type": "stream",
     "text": [
      "tensor([[[0.2138, 0.5395],\n",
      "         [0.3686, 0.4007],\n",
      "         [0.7220, 0.8217]],\n",
      "\n",
      "        [[0.2138, 0.5395],\n",
      "         [0.3686, 0.4007],\n",
      "         [0.7220, 0.8217]],\n",
      "\n",
      "        [[0.2138, 0.5395],\n",
      "         [0.3686, 0.4007],\n",
      "         [0.7220, 0.8217]],\n",
      "\n",
      "        [[0.2138, 0.5395],\n",
      "         [0.3686, 0.4007],\n",
      "         [0.7220, 0.8217]]])\n",
      "tensor([[[0.2612, 0.2612],\n",
      "         [0.7375, 0.7375],\n",
      "         [0.8328, 0.8328]],\n",
      "\n",
      "        [[0.2612, 0.2612],\n",
      "         [0.7375, 0.7375],\n",
      "         [0.8328, 0.8328]],\n",
      "\n",
      "        [[0.2612, 0.2612],\n",
      "         [0.7375, 0.7375],\n",
      "         [0.8328, 0.8328]],\n",
      "\n",
      "        [[0.2612, 0.2612],\n",
      "         [0.7375, 0.7375],\n",
      "         [0.8328, 0.8328]]])\n",
      "tensor([[[0.8444, 0.2941],\n",
      "         [0.8444, 0.2941],\n",
      "         [0.8444, 0.2941]],\n",
      "\n",
      "        [[0.8444, 0.2941],\n",
      "         [0.8444, 0.2941],\n",
      "         [0.8444, 0.2941]],\n",
      "\n",
      "        [[0.8444, 0.2941],\n",
      "         [0.8444, 0.2941],\n",
      "         [0.8444, 0.2941]],\n",
      "\n",
      "        [[0.8444, 0.2941],\n",
      "         [0.8444, 0.2941],\n",
      "         [0.8444, 0.2941]]])\n"
     ]
    }
   ],
   "source": [
    "a =     torch.ones(4, 3, 2)\n",
    "\n",
    "b = a * torch.rand(   3, 2) # 3rd & 2nd dims identical to a, dim 1 absent\n",
    "print(b)\n",
    "\n",
    "c = a * torch.rand(   3, 1) # 3rd dim = 1, 2nd dim identical to a\n",
    "print(c)\n",
    "\n",
    "d = a * torch.rand(   1, 2) # 3rd dim identical to a, 2nd dim = 1\n",
    "print(d)"
   ]
  },
  {
   "cell_type": "code",
   "execution_count": 14,
   "id": "e8c21a12-8ba2-4f7e-82a8-7147c980063e",
   "metadata": {
    "tags": []
   },
   "outputs": [
    {
     "ename": "RuntimeError",
     "evalue": "The size of tensor a (2) must match the size of tensor b (3) at non-singleton dimension 2",
     "output_type": "error",
     "traceback": [
      "\u001b[1;31m---------------------------------------------------------------------------\u001b[0m",
      "\u001b[1;31mRuntimeError\u001b[0m                              Traceback (most recent call last)",
      "Cell \u001b[1;32mIn[14], line 5\u001b[0m\n\u001b[0;32m      1\u001b[0m \u001b[38;5;66;03m# 아래 셀은 런타임 오류를 발생시킨다. >> 오류 확인!\u001b[39;00m\n\u001b[0;32m      3\u001b[0m a \u001b[38;5;241m=\u001b[39m     torch\u001b[38;5;241m.\u001b[39mones(\u001b[38;5;241m4\u001b[39m, \u001b[38;5;241m3\u001b[39m, \u001b[38;5;241m2\u001b[39m)\n\u001b[1;32m----> 5\u001b[0m b \u001b[38;5;241m=\u001b[39m \u001b[43ma\u001b[49m\u001b[43m \u001b[49m\u001b[38;5;241;43m*\u001b[39;49m\u001b[43m \u001b[49m\u001b[43mtorch\u001b[49m\u001b[38;5;241;43m.\u001b[39;49m\u001b[43mrand\u001b[49m\u001b[43m(\u001b[49m\u001b[38;5;241;43m4\u001b[39;49m\u001b[43m,\u001b[49m\u001b[43m \u001b[49m\u001b[38;5;241;43m3\u001b[39;49m\u001b[43m)\u001b[49m    \u001b[38;5;66;03m# dimensions must match last-to-first : 차원은 처음과 마지막이 일치해야함\u001b[39;00m\n\u001b[0;32m      7\u001b[0m c \u001b[38;5;241m=\u001b[39m a \u001b[38;5;241m*\u001b[39m torch\u001b[38;5;241m.\u001b[39mrand(   \u001b[38;5;241m2\u001b[39m, \u001b[38;5;241m3\u001b[39m) \u001b[38;5;66;03m# both 3rd & 2nd dims different : 차원 수가 다름\u001b[39;00m\n\u001b[0;32m      9\u001b[0m d \u001b[38;5;241m=\u001b[39m a \u001b[38;5;241m*\u001b[39m torch\u001b[38;5;241m.\u001b[39mrand((\u001b[38;5;241m0\u001b[39m, ))\n",
      "\u001b[1;31mRuntimeError\u001b[0m: The size of tensor a (2) must match the size of tensor b (3) at non-singleton dimension 2"
     ]
    }
   ],
   "source": [
    "# 아래 셀은 런타임 오류를 발생시킨다. >> 오류 확인!\n",
    "\n",
    "a =     torch.ones(4, 3, 2)\n",
    "\n",
    "b = a * torch.rand(4, 3)    # dimensions must match last-to-first : 차원은 처음과 마지막이 일치해야함\n",
    "\n",
    "c = a * torch.rand(   2, 3) # both 3rd & 2nd dims different : 차원 수가 다름\n",
    "\n",
    "d = a * torch.rand((0, ))   # can't broadcast with an empty tensor : 텐서가 비어 있음"
   ]
  },
  {
   "cell_type": "markdown",
   "id": "e86b6c87-de96-46f2-bf47-e8627266fa76",
   "metadata": {},
   "source": [
    "### More Math with Tensors"
   ]
  },
  {
   "cell_type": "code",
   "execution_count": 20,
   "id": "964508d8-6dba-4ee5-8ffc-c161aeadb47e",
   "metadata": {},
   "outputs": [
    {
     "name": "stdout",
     "output_type": "stream",
     "text": [
      "Common functions:\n",
      "tensor([[0.4695, 0.4657, 0.5747, 0.1185],\n",
      "        [0.2246, 0.2155, 0.5310, 0.4235]])\n",
      "tensor([[-0., 1., -0., -0.],\n",
      "        [-0., 1., -0., 1.]])\n",
      "tensor([[-1.,  0., -1., -1.],\n",
      "        [-1.,  0., -1.,  0.]])\n",
      "tensor([[-0.4695,  0.4657, -0.5000, -0.1185],\n",
      "        [-0.2246,  0.2155, -0.5000,  0.4235]])\n",
      "\n",
      "Sine and arcsine:\n",
      "tensor([0.0000, 0.7854, 1.5708, 2.3562])\n",
      "tensor([0.0000, 0.7071, 1.0000, 0.7071])\n",
      "tensor([0.0000, 0.7854, 1.5708, 0.7854])\n",
      "\n",
      "Bitwise XOR:\n",
      "tensor([3, 2, 1])\n",
      "\n",
      "Broadcasted, element-wise equality comparison:\n",
      "tensor([[ True, False],\n",
      "        [False, False]])\n",
      "\n",
      "Reduction ops:\n",
      "tensor(4.)\n",
      "4.0\n",
      "tensor(2.5000)\n",
      "tensor(1.2910)\n",
      "tensor(24.)\n",
      "tensor([1, 2])\n",
      "\n",
      "Vectors & Matrices:\n",
      "cross : \n",
      " tensor([ 0.,  0., -1.])\n",
      "torch.rand(2, 2) : \n",
      " tensor([[0.7402, 0.4467],\n",
      "        [0.8499, 0.1399]])\n",
      "matmul : \n",
      " tensor([[2.2206, 1.3401],\n",
      "        [2.5496, 0.4198]])\n",
      "torch.return_types.svd(\n",
      "U=tensor([[-0.7085, -0.7057],\n",
      "        [-0.7057,  0.7085]]),\n",
      "S=tensor([3.5953, 0.6910]),\n",
      "V=tensor([[-0.9381,  0.3465],\n",
      "        [-0.3465, -0.9381]]))\n"
     ]
    }
   ],
   "source": [
    "# common functions\n",
    "a = torch.rand(2, 4) * 2 - 1\n",
    "print('Common functions:')\n",
    "print(torch.abs(a)) # 절대값\n",
    "print(torch.ceil(a)) # 올림\n",
    "print(torch.floor(a)) # 내림\n",
    "print(torch.clamp(a, -0.5, 0.5)) # min 혹은 max의 범주에 해당하지 않는 값들 범주에 맞게 변경\n",
    "\n",
    "# trigonometric functions and their inverses\n",
    "angles = torch.tensor([0, math.pi / 4, math.pi / 2, 3 * math.pi / 4])\n",
    "sines = torch.sin(angles)\n",
    "inverses = torch.asin(sines) # 역삼각함수 : 아크사인\n",
    "print('\\nSine and arcsine:')\n",
    "print(angles)\n",
    "print(sines)\n",
    "print(inverses)\n",
    "\n",
    "# bitwise operations\n",
    "print('\\nBitwise XOR:')\n",
    "b = torch.tensor([1, 5, 11])\n",
    "c = torch.tensor([2, 7, 10])\n",
    "print(torch.bitwise_xor(b, c))\n",
    "\n",
    "# comparisons:\n",
    "print('\\nBroadcasted, element-wise equality comparison:')\n",
    "d = torch.tensor([[1., 2.], [3., 4.]])\n",
    "e = torch.ones(1, 2)  # many comparison ops support broadcasting!\n",
    "print(torch.eq(d, e)) # returns a tensor of type bool\n",
    "\n",
    "# reductions:\n",
    "print('\\nReduction ops:')\n",
    "print(torch.max(d))        # returns a single-element tensor\n",
    "print(torch.max(d).item()) # extracts the value from the returned tensor\n",
    "print(torch.mean(d))       # average\n",
    "print(torch.std(d))        # standard deviation\n",
    "print(torch.prod(d))       # product of all numbers\n",
    "print(torch.unique(torch.tensor([1, 2, 1, 2, 1, 2]))) # filter unique elements\n",
    "\n",
    "# vector and linear algebra operations\n",
    "v1 = torch.tensor([1., 0., 0.])         # x unit vector\n",
    "v2 = torch.tensor([0., 1., 0.])         # y unit vector\n",
    "m1 = torch.rand(2, 2)                   # random matrix\n",
    "m2 = torch.tensor([[3., 0.], [0., 3.]]) # three times identity matrix\n",
    "\n",
    "print('\\nVectors & Matrices:')\n",
    "print('cross : \\n', torch.cross(v2, v1)) # negative of z unit vector (v1 x v2 == -v2 x v1)\n",
    "print('torch.rand(2, 2) : \\n', m1)\n",
    "m3 = torch.matmul(m1, m2)\n",
    "print('matmul : \\n', m3)                  # 3 times m1\n",
    "print(torch.svd(m3))       # singular value decomposition"
   ]
  },
  {
   "cell_type": "markdown",
   "id": "aac16c3b-e514-4110-aa4a-75cbf3a2f7f9",
   "metadata": {},
   "source": [
    "### Altering Tensors in Place"
   ]
  },
  {
   "cell_type": "markdown",
   "id": "88c502d6-e214-438e-a652-0205cb962453",
   "metadata": {},
   "source": [
    "함수 뒤에 _(언더바)를 붙여주면,\n",
    "\n",
    "inplace=True와 같은 역할"
   ]
  },
  {
   "cell_type": "code",
   "execution_count": 53,
   "id": "8b96d0c5-0238-48e8-b854-0a9ce6820951",
   "metadata": {},
   "outputs": [
    {
     "name": "stdout",
     "output_type": "stream",
     "text": [
      "a:\n",
      "tensor([0.0000, 0.7854, 1.5708, 2.3562])\n",
      "tensor([0.0000, 0.7071, 1.0000, 0.7071])\n",
      "tensor([0.0000, 0.7854, 1.5708, 2.3562])\n",
      "\n",
      "b:\n",
      "tensor([0.0000, 0.7854, 1.5708, 2.3562])\n",
      "tensor([0.0000, 0.7071, 1.0000, 0.7071])\n",
      "tensor([0.0000, 0.7071, 1.0000, 0.7071])\n"
     ]
    }
   ],
   "source": [
    "a = torch.tensor([0, math.pi / 4, math.pi / 2, 3 * math.pi / 4])\n",
    "print('a:')\n",
    "print(a)\n",
    "print(torch.sin(a))   # this operation creates a new tensor in memory\n",
    "print(a)              # a has not changed\n",
    "\n",
    "b = torch.tensor([0, math.pi / 4, math.pi / 2, 3 * math.pi / 4])\n",
    "print('\\nb:')\n",
    "print(b)\n",
    "print(torch.sin_(b))  # note the underscore\n",
    "print(b)              # b has changed"
   ]
  },
  {
   "cell_type": "code",
   "execution_count": 54,
   "id": "69e89da1-556a-4728-82ab-33d1cfc8c0fd",
   "metadata": {},
   "outputs": [
    {
     "name": "stdout",
     "output_type": "stream",
     "text": [
      "Before:\n",
      "tensor([[1., 1.],\n",
      "        [1., 1.]])\n",
      "tensor([[0.9197, 0.9399],\n",
      "        [0.7340, 0.7090]])\n",
      "\n",
      "After adding:\n",
      "tensor([[1.9197, 1.9399],\n",
      "        [1.7340, 1.7090]])\n",
      "tensor([[1.9197, 1.9399],\n",
      "        [1.7340, 1.7090]])\n",
      "tensor([[0.9197, 0.9399],\n",
      "        [0.7340, 0.7090]])\n",
      "\n",
      "After multiplying\n",
      "tensor([[0.8459, 0.8833],\n",
      "        [0.5388, 0.5027]])\n",
      "tensor([[0.8459, 0.8833],\n",
      "        [0.5388, 0.5027]])\n"
     ]
    }
   ],
   "source": [
    "# 산술 연산의 경우도 마찬가지 작동\n",
    "\n",
    "a = torch.ones(2, 2)\n",
    "b = torch.rand(2, 2)\n",
    "\n",
    "print('Before:')\n",
    "print(a)\n",
    "print(b)\n",
    "print('\\nAfter adding:')\n",
    "print(a.add_(b))\n",
    "print(a)\n",
    "print(b)\n",
    "print('\\nAfter multiplying')\n",
    "print(b.mul_(b))\n",
    "print(b)"
   ]
  },
  {
   "cell_type": "code",
   "execution_count": 76,
   "id": "18eaa683-9263-41bd-a52f-542855244873",
   "metadata": {},
   "outputs": [
    {
     "name": "stdout",
     "output_type": "stream",
     "text": [
      "tensor([[0., 0.],\n",
      "        [0., 0.]])\n",
      "tensor([[1.1540, 0.9881],\n",
      "        [1.2381, 1.0946]])\n",
      "tensor([[0.8115, 0.8870],\n",
      "        [0.5763, 0.6694]])\n"
     ]
    }
   ],
   "source": [
    "a = torch.rand(2, 2)\n",
    "b = torch.rand(2, 2)\n",
    "c = torch.zeros(2, 2)\n",
    "old_id = id(c)\n",
    "\n",
    "print(c)\n",
    "d = torch.matmul(a, b, out=c) # out 출력을 수신할 텐서를 지정\n",
    "print(c)                # contents of c have changed\n",
    "\n",
    "assert c is d           # test c & d are same object, not just containing equal values : c와 d는 동일한 값을 포함하는 것이 아닌 동일한 개체임\n",
    "assert id(c), old_id    # make sure that our new c is the same object as the old one\n",
    "\n",
    "torch.rand(2, 2, out=c) # works for creation too!\n",
    "print(c)                # c has changed again\n",
    "assert id(c), old_id    # still the same object!"
   ]
  },
  {
   "cell_type": "markdown",
   "id": "4241dd79-e719-4288-81cc-83fab5601ad7",
   "metadata": {},
   "source": [
    "### Copying Tensors"
   ]
  },
  {
   "cell_type": "code",
   "execution_count": 55,
   "id": "c7db233a-fecb-4228-b987-a9557a115d35",
   "metadata": {},
   "outputs": [
    {
     "name": "stdout",
     "output_type": "stream",
     "text": [
      "tensor([[  1., 561.],\n",
      "        [  1.,   1.]])\n"
     ]
    }
   ],
   "source": [
    "a = torch.ones(2, 2)\n",
    "b = a\n",
    "\n",
    "a[0][1] = 561  # we change a...\n",
    "print(b)       # ...and b is also altered : 동일하게 변경됨"
   ]
  },
  {
   "cell_type": "code",
   "execution_count": 56,
   "id": "fb1c680e-d66e-4899-8e65-16929ba97116",
   "metadata": {},
   "outputs": [
    {
     "name": "stdout",
     "output_type": "stream",
     "text": [
      "tensor([[True, True],\n",
      "        [True, True]])\n",
      "tensor([[1., 1.],\n",
      "        [1., 1.]])\n"
     ]
    }
   ],
   "source": [
    "a = torch.ones(2, 2)\n",
    "b = a.clone() # clone : 별도의 복사본 만들기\n",
    "\n",
    "assert b is not a      # different objects in memory...\n",
    "print(torch.eq(a, b))  # ...but still with the same contents!\n",
    "\n",
    "a[0][1] = 561          # a changes...\n",
    "print(b)               # ...but b is still all ones"
   ]
  },
  {
   "cell_type": "code",
   "execution_count": 57,
   "id": "d62ccaa4-d04e-4137-9181-1280d2e9cf90",
   "metadata": {},
   "outputs": [
    {
     "name": "stdout",
     "output_type": "stream",
     "text": [
      "tensor([[0.8198, 0.2172],\n",
      "        [0.1861, 0.7556]], requires_grad=True)\n",
      "tensor([[0.8198, 0.2172],\n",
      "        [0.1861, 0.7556]], grad_fn=<CloneBackward0>)\n",
      "tensor([[0.8198, 0.2172],\n",
      "        [0.1861, 0.7556]])\n",
      "tensor([[0.8198, 0.2172],\n",
      "        [0.1861, 0.7556]], requires_grad=True)\n"
     ]
    }
   ],
   "source": [
    "a = torch.rand(2, 2, requires_grad=True) # turn on autograd\n",
    "print(a)\n",
    "\n",
    "b = a.clone()\n",
    "print(b)\n",
    "\n",
    "c = a.detach().clone() # detach로 가중치 추적 없이 계산 수행\n",
    "print(c)\n",
    "\n",
    "print(a)"
   ]
  },
  {
   "cell_type": "markdown",
   "id": "e016ae2f-aaf9-4030-9299-a9757b54dfab",
   "metadata": {},
   "source": [
    "### Moving to GPU"
   ]
  },
  {
   "cell_type": "markdown",
   "id": "e452e11d-0680-4dc3-a6f6-0531e4a777c8",
   "metadata": {},
   "source": [
    "CUDA 호환 GPU 및 CUDA 드라이버가 설치되어 있지 않은 경우 이 섹션의 실행 셀은 GPU 관련 코드를 실행하지 않음"
   ]
  },
  {
   "cell_type": "code",
   "execution_count": 58,
   "id": "369e9d61-a574-4057-a81e-674a3b333de9",
   "metadata": {},
   "outputs": [
    {
     "name": "stdout",
     "output_type": "stream",
     "text": [
      "Sorry, CPU only.\n"
     ]
    }
   ],
   "source": [
    "if torch.cuda.is_available():\n",
    "    print('We have a GPU!')\n",
    "else:\n",
    "    print('Sorry, CPU only.')"
   ]
  },
  {
   "cell_type": "code",
   "execution_count": 60,
   "id": "14d385ba-5c3b-4759-a246-2c809b0ff352",
   "metadata": {},
   "outputs": [
    {
     "name": "stdout",
     "output_type": "stream",
     "text": [
      "Sorry, CPU only.\n"
     ]
    }
   ],
   "source": [
    "# 데이터를 장치로 가져오기\n",
    "if torch.cuda.is_available():\n",
    "    gpu_rand = torch.rand(2, 2, device='cuda')\n",
    "    print(gpu_rand)\n",
    "else:\n",
    "    print('Sorry, CPU only.')"
   ]
  },
  {
   "cell_type": "code",
   "execution_count": 61,
   "id": "dc7800c9-e474-4185-a2ef-3d1809d05235",
   "metadata": {},
   "outputs": [
    {
     "name": "stdout",
     "output_type": "stream",
     "text": [
      "Device: cpu\n",
      "tensor([[0.5841, 0.9205],\n",
      "        [0.3687, 0.3966]])\n"
     ]
    }
   ],
   "source": [
    "if torch.cuda.is_available():\n",
    "    my_device = torch.device('cuda')\n",
    "else:\n",
    "    my_device = torch.device('cpu')\n",
    "print('Device: {}'.format(my_device))\n",
    "\n",
    "x = torch.rand(2, 2, device=my_device)\n",
    "print(x)"
   ]
  },
  {
   "cell_type": "code",
   "execution_count": 62,
   "id": "2ace76a7-266f-4bbc-b321-21689c24bf06",
   "metadata": {},
   "outputs": [],
   "source": [
    "y = torch.rand(2, 2)\n",
    "y = y.to(my_device) # to : 다른 쪽으로 텐서 이동"
   ]
  },
  {
   "cell_type": "code",
   "execution_count": 63,
   "id": "249c97b3-9a97-41ce-a5c2-fd60ca219e7f",
   "metadata": {},
   "outputs": [
    {
     "ename": "RuntimeError",
     "evalue": "Expected one of cpu, cuda, ipu, xpu, mkldnn, opengl, opencl, ideep, hip, ve, fpga, ort, xla, lazy, vulkan, mps, meta, hpu, privateuseone device type at start of device string: gpu",
     "output_type": "error",
     "traceback": [
      "\u001b[1;31m---------------------------------------------------------------------------\u001b[0m",
      "\u001b[1;31mRuntimeError\u001b[0m                              Traceback (most recent call last)",
      "Cell \u001b[1;32mIn[63], line 2\u001b[0m\n\u001b[0;32m      1\u001b[0m x \u001b[38;5;241m=\u001b[39m torch\u001b[38;5;241m.\u001b[39mrand(\u001b[38;5;241m2\u001b[39m, \u001b[38;5;241m2\u001b[39m)\n\u001b[1;32m----> 2\u001b[0m y \u001b[38;5;241m=\u001b[39m \u001b[43mtorch\u001b[49m\u001b[38;5;241;43m.\u001b[39;49m\u001b[43mrand\u001b[49m\u001b[43m(\u001b[49m\u001b[38;5;241;43m2\u001b[39;49m\u001b[43m,\u001b[49m\u001b[43m \u001b[49m\u001b[38;5;241;43m2\u001b[39;49m\u001b[43m,\u001b[49m\u001b[43m \u001b[49m\u001b[43mdevice\u001b[49m\u001b[38;5;241;43m=\u001b[39;49m\u001b[38;5;124;43m'\u001b[39;49m\u001b[38;5;124;43mgpu\u001b[39;49m\u001b[38;5;124;43m'\u001b[39;49m\u001b[43m)\u001b[49m\n\u001b[0;32m      3\u001b[0m z \u001b[38;5;241m=\u001b[39m x \u001b[38;5;241m+\u001b[39m y\n",
      "\u001b[1;31mRuntimeError\u001b[0m: Expected one of cpu, cuda, ipu, xpu, mkldnn, opengl, opencl, ideep, hip, ve, fpga, ort, xla, lazy, vulkan, mps, meta, hpu, privateuseone device type at start of device string: gpu"
     ]
    }
   ],
   "source": [
    "x = torch.rand(2, 2)\n",
    "y = torch.rand(2, 2, device='gpu')\n",
    "z = x + y  # exception will be thrown : 텐서 연산 수행시 모든 텐서가 동일한 장치에 있어야 함"
   ]
  },
  {
   "cell_type": "markdown",
   "id": "e8a4ea95-ad42-4f94-a8d3-8a54fa775932",
   "metadata": {},
   "source": [
    "### Manipulating Tensor Shapes"
   ]
  },
  {
   "cell_type": "markdown",
   "id": "dd20f01e-a972-4411-92c7-1f3fb2f55b60",
   "metadata": {},
   "source": [
    "#### Changing the Number of Dimensions"
   ]
  },
  {
   "cell_type": "markdown",
   "id": "cff6d1b8-d3a0-4c6d-b93e-239de655e1a7",
   "metadata": {},
   "source": [
    "차원 수 변경"
   ]
  },
  {
   "cell_type": "code",
   "execution_count": 64,
   "id": "e558c329-982e-46fb-859b-11828a986e05",
   "metadata": {},
   "outputs": [
    {
     "name": "stdout",
     "output_type": "stream",
     "text": [
      "torch.Size([3, 226, 226])\n",
      "torch.Size([1, 3, 226, 226])\n"
     ]
    }
   ],
   "source": [
    "a = torch.rand(3, 226, 226) # 3 채널, 226*226 사이즈\n",
    "b = a.unsqueeze(0) # 0번째 차원 추가\n",
    "\n",
    "print(a.shape)\n",
    "print(b.shape)"
   ]
  },
  {
   "cell_type": "code",
   "execution_count": 65,
   "id": "663c576a-9f7c-4f77-a663-e31171a4a934",
   "metadata": {},
   "outputs": [
    {
     "name": "stdout",
     "output_type": "stream",
     "text": [
      "tensor([[[[[0.8578]]]]])\n"
     ]
    }
   ],
   "source": [
    "c = torch.rand(1, 1, 1, 1, 1)\n",
    "print(c)"
   ]
  },
  {
   "cell_type": "code",
   "execution_count": 22,
   "id": "9ee19a82-f982-4e6d-bef0-9438e0a8f519",
   "metadata": {},
   "outputs": [
    {
     "name": "stdout",
     "output_type": "stream",
     "text": [
      "torch.Size([1, 20])\n",
      "tensor([[0.9280, 0.1986, 0.1779, 0.6366, 0.2301, 0.9151, 0.5056, 0.2659, 0.5251,\n",
      "         0.1631, 0.7391, 0.9254, 0.2546, 0.9369, 0.7488, 0.9106, 0.8941, 0.7992,\n",
      "         0.0554, 0.5776]])\n",
      "torch.Size([20])\n",
      "tensor([0.9280, 0.1986, 0.1779, 0.6366, 0.2301, 0.9151, 0.5056, 0.2659, 0.5251,\n",
      "        0.1631, 0.7391, 0.9254, 0.2546, 0.9369, 0.7488, 0.9106, 0.8941, 0.7992,\n",
      "        0.0554, 0.5776])\n",
      "torch.Size([2, 2])\n",
      "tensor([[0.9130, 0.9833],\n",
      "        [0.7706, 0.2174]])\n",
      "torch.Size([2, 2])\n",
      "tensor([[0.9130, 0.9833],\n",
      "        [0.7706, 0.2174]])\n"
     ]
    }
   ],
   "source": [
    "# 차원 비교\n",
    "a = torch.rand(1, 20)\n",
    "print(a.shape)\n",
    "print(a)\n",
    "\n",
    "b = a.squeeze(0) # 차원 줄이기\n",
    "print(b.shape)\n",
    "print(b)\n",
    "\n",
    "c = torch.rand(2, 2)\n",
    "print(c.shape)\n",
    "print(c)\n",
    "\n",
    "d = c.squeeze(0)\n",
    "print(d.shape)\n",
    "print(d)"
   ]
  },
  {
   "cell_type": "code",
   "execution_count": 23,
   "id": "2f82e445-1074-4aab-9198-ca682807a64d",
   "metadata": {},
   "outputs": [
    {
     "name": "stdout",
     "output_type": "stream",
     "text": [
      "tensor([[[1., 1.],\n",
      "         [1., 1.],\n",
      "         [1., 1.]],\n",
      "\n",
      "        [[1., 1.],\n",
      "         [1., 1.],\n",
      "         [1., 1.]],\n",
      "\n",
      "        [[1., 1.],\n",
      "         [1., 1.],\n",
      "         [1., 1.]],\n",
      "\n",
      "        [[1., 1.],\n",
      "         [1., 1.],\n",
      "         [1., 1.]]])\n",
      "tensor([[[0.2038, 0.2038],\n",
      "         [0.2881, 0.2881],\n",
      "         [0.2677, 0.2677]],\n",
      "\n",
      "        [[0.2038, 0.2038],\n",
      "         [0.2881, 0.2881],\n",
      "         [0.2677, 0.2677]],\n",
      "\n",
      "        [[0.2038, 0.2038],\n",
      "         [0.2881, 0.2881],\n",
      "         [0.2677, 0.2677]],\n",
      "\n",
      "        [[0.2038, 0.2038],\n",
      "         [0.2881, 0.2881],\n",
      "         [0.2677, 0.2677]]])\n"
     ]
    }
   ],
   "source": [
    "a = torch.ones(4, 3, 2)\n",
    "print(a)\n",
    "\n",
    "c = a * torch.rand(3, 1) # 3rd dim = 1, 2nd dim identical to a\n",
    "print(c)"
   ]
  },
  {
   "cell_type": "code",
   "execution_count": 32,
   "id": "f902b14a-6791-40c0-8130-021b3b7b5307",
   "metadata": {},
   "outputs": [
    {
     "name": "stdout",
     "output_type": "stream",
     "text": [
      "torch.Size([4, 3, 2])\n",
      "torch.Size([3])\n",
      "torch.Size([3, 1])\n",
      "tensor([[[0.3069, 0.3069],\n",
      "         [0.3758, 0.3758],\n",
      "         [0.9553, 0.9553]],\n",
      "\n",
      "        [[0.3069, 0.3069],\n",
      "         [0.3758, 0.3758],\n",
      "         [0.9553, 0.9553]],\n",
      "\n",
      "        [[0.3069, 0.3069],\n",
      "         [0.3758, 0.3758],\n",
      "         [0.9553, 0.9553]],\n",
      "\n",
      "        [[0.3069, 0.3069],\n",
      "         [0.3758, 0.3758],\n",
      "         [0.9553, 0.9553]]])\n"
     ]
    }
   ],
   "source": [
    "a = torch.ones(4, 3, 2)\n",
    "b = torch.rand(3)     # trying to multiply a * b will give a runtime error\n",
    "c = b.unsqueeze(1)       # change to a 2-dimensional tensor, adding new dim at the end : 차원 추가\n",
    "print(a.shape)\n",
    "print(b.shape)\n",
    "print(c.shape)\n",
    "print(a * c)             # broadcasting works again!"
   ]
  },
  {
   "cell_type": "code",
   "execution_count": 37,
   "id": "99dae1c3-1278-49e4-b974-f95675ced8b2",
   "metadata": {},
   "outputs": [
    {
     "name": "stdout",
     "output_type": "stream",
     "text": [
      "tensor([[[0.2530, 0.8060, 0.9073,  ..., 0.2750, 0.0533, 0.3208],\n",
      "         [0.2347, 0.0550, 0.9968,  ..., 0.6488, 0.2107, 0.7595],\n",
      "         [0.2201, 0.9034, 0.0433,  ..., 0.7371, 0.9103, 0.2124],\n",
      "         ...,\n",
      "         [0.6790, 0.7808, 0.5495,  ..., 0.6651, 0.8474, 0.6027],\n",
      "         [0.9298, 0.8795, 0.5788,  ..., 0.1338, 0.2261, 0.2232],\n",
      "         [0.4417, 0.5264, 0.8071,  ..., 0.4836, 0.4403, 0.1981]],\n",
      "\n",
      "        [[0.4266, 0.7244, 0.6898,  ..., 0.1335, 0.5360, 0.6872],\n",
      "         [0.4110, 0.9128, 0.6693,  ..., 0.7138, 0.3637, 0.7326],\n",
      "         [0.7472, 0.5488, 0.0175,  ..., 0.3780, 0.6648, 0.4464],\n",
      "         ...,\n",
      "         [0.8521, 0.1304, 0.0485,  ..., 0.5005, 0.7146, 0.5307],\n",
      "         [0.8109, 0.2255, 0.3124,  ..., 0.0348, 0.4512, 0.9984],\n",
      "         [0.7868, 0.7706, 0.3193,  ..., 0.3753, 0.4500, 0.9484]],\n",
      "\n",
      "        [[0.4624, 0.4758, 0.8566,  ..., 0.2929, 0.5341, 0.0478],\n",
      "         [0.3170, 0.8296, 0.2881,  ..., 0.7350, 0.6591, 0.5247],\n",
      "         [0.5770, 0.4575, 0.2104,  ..., 0.2835, 0.0118, 0.6471],\n",
      "         ...,\n",
      "         [0.6315, 0.7711, 0.3042,  ..., 0.4820, 0.6640, 0.1025],\n",
      "         [0.6804, 0.5312, 0.6909,  ..., 0.6331, 0.2365, 0.7261],\n",
      "         [0.7499, 0.7199, 0.0268,  ..., 0.0633, 0.6968, 0.8261]]])\n",
      "torch.Size([3, 226, 226])\n",
      "tensor([[[[0.2530, 0.8060, 0.9073,  ..., 0.2750, 0.0533, 0.3208],\n",
      "          [0.2347, 0.0550, 0.9968,  ..., 0.6488, 0.2107, 0.7595],\n",
      "          [0.2201, 0.9034, 0.0433,  ..., 0.7371, 0.9103, 0.2124],\n",
      "          ...,\n",
      "          [0.6790, 0.7808, 0.5495,  ..., 0.6651, 0.8474, 0.6027],\n",
      "          [0.9298, 0.8795, 0.5788,  ..., 0.1338, 0.2261, 0.2232],\n",
      "          [0.4417, 0.5264, 0.8071,  ..., 0.4836, 0.4403, 0.1981]],\n",
      "\n",
      "         [[0.4266, 0.7244, 0.6898,  ..., 0.1335, 0.5360, 0.6872],\n",
      "          [0.4110, 0.9128, 0.6693,  ..., 0.7138, 0.3637, 0.7326],\n",
      "          [0.7472, 0.5488, 0.0175,  ..., 0.3780, 0.6648, 0.4464],\n",
      "          ...,\n",
      "          [0.8521, 0.1304, 0.0485,  ..., 0.5005, 0.7146, 0.5307],\n",
      "          [0.8109, 0.2255, 0.3124,  ..., 0.0348, 0.4512, 0.9984],\n",
      "          [0.7868, 0.7706, 0.3193,  ..., 0.3753, 0.4500, 0.9484]],\n",
      "\n",
      "         [[0.4624, 0.4758, 0.8566,  ..., 0.2929, 0.5341, 0.0478],\n",
      "          [0.3170, 0.8296, 0.2881,  ..., 0.7350, 0.6591, 0.5247],\n",
      "          [0.5770, 0.4575, 0.2104,  ..., 0.2835, 0.0118, 0.6471],\n",
      "          ...,\n",
      "          [0.6315, 0.7711, 0.3042,  ..., 0.4820, 0.6640, 0.1025],\n",
      "          [0.6804, 0.5312, 0.6909,  ..., 0.6331, 0.2365, 0.7261],\n",
      "          [0.7499, 0.7199, 0.0268,  ..., 0.0633, 0.6968, 0.8261]]]])\n",
      "torch.Size([1, 3, 226, 226])\n"
     ]
    }
   ],
   "source": [
    "batch_me = torch.rand(3, 226, 226)\n",
    "print(batch_me)\n",
    "print(batch_me.shape)\n",
    "batch_me.unsqueeze_(0) # 인플레이스 적용(_)해서 차원 추가\n",
    "print(batch_me)\n",
    "print(batch_me.shape)"
   ]
  },
  {
   "cell_type": "code",
   "execution_count": 38,
   "id": "5bf529d0-1d63-4e7a-9bf2-e787b8cab644",
   "metadata": {},
   "outputs": [
    {
     "name": "stdout",
     "output_type": "stream",
     "text": [
      "torch.Size([6, 20, 20])\n",
      "torch.Size([2400])\n",
      "torch.Size([2400])\n"
     ]
    }
   ],
   "source": [
    "# Convolution kernel은 채널*너비*높이 형태의 출력텐서를 생성하지만,\n",
    "# 선형 레이어는 1차원 입력해야하므로 shape 변경해주는 reshape 수행\n",
    "output3d = torch.rand(6, 20, 20)\n",
    "print(output3d.shape)\n",
    "\n",
    "input1d = output3d.reshape(6 * 20 * 20)\n",
    "print(input1d.shape)\n",
    "\n",
    "# can also call it as a method on the torch module:\n",
    "print(torch.reshape(output3d, (6 * 20 * 20,)).shape)"
   ]
  },
  {
   "cell_type": "markdown",
   "id": "4c059405-9b2f-4a32-bc83-18f0da2ac2a3",
   "metadata": {},
   "source": [
    "### NumPy Bridge"
   ]
  },
  {
   "cell_type": "markdown",
   "id": "524952d8-fec3-4f29-9333-09e2b5d9b17e",
   "metadata": {},
   "source": [
    "\"numpy의 ndarray\"와 \"torch의 tensor\" 간의 전환"
   ]
  },
  {
   "cell_type": "code",
   "execution_count": 41,
   "id": "4abbb616-fdfa-488e-b773-98636e02374f",
   "metadata": {},
   "outputs": [
    {
     "name": "stdout",
     "output_type": "stream",
     "text": [
      "[[1. 1. 1.]\n",
      " [1. 1. 1.]]\n",
      "tensor([[1., 1., 1.],\n",
      "        [1., 1., 1.]], dtype=torch.float64)\n"
     ]
    }
   ],
   "source": [
    "import numpy as np\n",
    "\n",
    "numpy_array = np.ones((2, 3))\n",
    "print(numpy_array)\n",
    "\n",
    "pytorch_tensor = torch.from_numpy(numpy_array) # ndarray를 tensor로 바꾸기\n",
    "print(pytorch_tensor)"
   ]
  },
  {
   "cell_type": "code",
   "execution_count": 42,
   "id": "3a6dc147-8abb-4eeb-99b1-70fe4aab96af",
   "metadata": {},
   "outputs": [
    {
     "name": "stdout",
     "output_type": "stream",
     "text": [
      "tensor([[0.1684, 0.8832, 0.1781],\n",
      "        [0.7375, 0.2606, 0.2977]])\n",
      "[[0.16839826 0.88322884 0.17813545]\n",
      " [0.73746306 0.26055974 0.29770023]]\n"
     ]
    }
   ],
   "source": [
    "pytorch_rand = torch.rand(2, 3)\n",
    "print(pytorch_rand)\n",
    "\n",
    "numpy_rand = pytorch_rand.numpy() # tensor를 ndarray로 바꾸기\n",
    "print(numpy_rand)"
   ]
  },
  {
   "cell_type": "code",
   "execution_count": 45,
   "id": "827829bd-8e24-488a-b086-b6564285f93e",
   "metadata": {},
   "outputs": [
    {
     "name": "stdout",
     "output_type": "stream",
     "text": [
      "[[ 1.  1.  1.]\n",
      " [ 1. 23.  1.]]\n",
      "tensor([[ 1.,  1.,  1.],\n",
      "        [ 1., 23.,  1.]], dtype=torch.float64)\n",
      "tensor([[ 0.1684,  0.8832,  0.1781],\n",
      "        [ 0.7375, 17.0000,  0.2977]])\n",
      "[[ 0.16839826  0.88322884  0.17813545]\n",
      " [ 0.73746306 17.          0.29770023]]\n"
     ]
    }
   ],
   "source": [
    "# 이렇게 변환된 객체가 소스 객체와 동일한 메모리를 사용한다는 것을 확인\n",
    "numpy_array[1, 1] = 23\n",
    "print(numpy_array) # 같이 바뀜\n",
    "print(pytorch_tensor)\n",
    "\n",
    "pytorch_rand[1, 1] = 17\n",
    "print(pytorch_rand) # 같이 바뀜\n",
    "print(numpy_rand)"
   ]
  },
  {
   "cell_type": "code",
   "execution_count": null,
   "id": "3cda2f2a-460d-4525-956b-9fbf0129a0eb",
   "metadata": {},
   "outputs": [],
   "source": []
  },
  {
   "cell_type": "code",
   "execution_count": null,
   "id": "0ca6b081-3352-478a-970e-a842ddff543e",
   "metadata": {},
   "outputs": [],
   "source": []
  },
  {
   "cell_type": "code",
   "execution_count": null,
   "id": "5152097d-88cb-4c04-85d1-53d9193cfcbb",
   "metadata": {},
   "outputs": [],
   "source": []
  },
  {
   "cell_type": "code",
   "execution_count": null,
   "id": "4a90171b-2382-4d6a-88d4-a2713fdc1e89",
   "metadata": {},
   "outputs": [],
   "source": []
  },
  {
   "cell_type": "code",
   "execution_count": null,
   "id": "3764c2a2-18c9-4493-9a2f-89f25862965b",
   "metadata": {},
   "outputs": [],
   "source": []
  }
 ],
 "metadata": {
  "kernelspec": {
   "display_name": "Python 3 (ipykernel)",
   "language": "python",
   "name": "python3"
  },
  "language_info": {
   "codemirror_mode": {
    "name": "ipython",
    "version": 3
   },
   "file_extension": ".py",
   "mimetype": "text/x-python",
   "name": "python",
   "nbconvert_exporter": "python",
   "pygments_lexer": "ipython3",
   "version": "3.9.7"
  }
 },
 "nbformat": 4,
 "nbformat_minor": 5
}
