{
 "cells": [
  {
   "cell_type": "code",
   "execution_count": 1,
   "metadata": {
    "id": "dIoN1QOc93VH"
   },
   "outputs": [],
   "source": [
    "import pandas as pd\n",
    "import numpy as np\n",
    "\n",
    "import torch\n",
    "from torch import nn\n",
    "import torch.nn.functional as F\n",
    "\n",
    "\n",
    "%matplotlib inline\n",
    "import matplotlib.pyplot as plt\n",
    "\n",
    "import re\n",
    "\n",
    "import urllib.request\n",
    "\n",
    "from tqdm import tqdm"
   ]
  },
  {
   "cell_type": "code",
   "execution_count": 2,
   "metadata": {
    "colab": {
     "base_uri": "https://localhost:8080/"
    },
    "id": "oXLBW0086IRp",
    "outputId": "97e862e2-f032-4866-f6dc-fd303b3514ad"
   },
   "outputs": [
    {
     "name": "stdout",
     "output_type": "stream",
     "text": [
      "Requirement already satisfied: transformers in c:\\users\\user\\anaconda3\\envs\\1_py39\\lib\\site-packages (4.26.0)\n",
      "Requirement already satisfied: packaging>=20.0 in c:\\users\\user\\anaconda3\\envs\\1_py39\\lib\\site-packages (from transformers) (22.0)\n",
      "Requirement already satisfied: pyyaml>=5.1 in c:\\users\\user\\anaconda3\\envs\\1_py39\\lib\\site-packages (from transformers) (6.0)\n",
      "Requirement already satisfied: requests in c:\\users\\user\\anaconda3\\envs\\1_py39\\lib\\site-packages (from transformers) (2.28.1)\n",
      "Requirement already satisfied: huggingface-hub<1.0,>=0.11.0 in c:\\users\\user\\anaconda3\\envs\\1_py39\\lib\\site-packages (from transformers) (0.12.0)\n",
      "Requirement already satisfied: tqdm>=4.27 in c:\\users\\user\\anaconda3\\envs\\1_py39\\lib\\site-packages (from transformers) (4.64.1)\n",
      "Requirement already satisfied: tokenizers!=0.11.3,<0.14,>=0.11.1 in c:\\users\\user\\anaconda3\\envs\\1_py39\\lib\\site-packages (from transformers) (0.13.2)\n",
      "Requirement already satisfied: regex!=2019.12.17 in c:\\users\\user\\anaconda3\\envs\\1_py39\\lib\\site-packages (from transformers) (2022.10.31)\n",
      "Requirement already satisfied: numpy>=1.17 in c:\\users\\user\\anaconda3\\envs\\1_py39\\lib\\site-packages (from transformers) (1.23.5)\n",
      "Requirement already satisfied: filelock in c:\\users\\user\\anaconda3\\envs\\1_py39\\lib\\site-packages (from transformers) (3.9.0)\n",
      "Requirement already satisfied: typing-extensions>=3.7.4.3 in c:\\users\\user\\anaconda3\\envs\\1_py39\\lib\\site-packages (from huggingface-hub<1.0,>=0.11.0->transformers) (4.4.0)\n",
      "Requirement already satisfied: colorama in c:\\users\\user\\anaconda3\\envs\\1_py39\\lib\\site-packages (from tqdm>=4.27->transformers) (0.4.6)\n",
      "Requirement already satisfied: urllib3<1.27,>=1.21.1 in c:\\users\\user\\anaconda3\\envs\\1_py39\\lib\\site-packages (from requests->transformers) (1.26.14)\n",
      "Requirement already satisfied: idna<4,>=2.5 in c:\\users\\user\\anaconda3\\envs\\1_py39\\lib\\site-packages (from requests->transformers) (3.4)\n",
      "Requirement already satisfied: charset-normalizer<3,>=2 in c:\\users\\user\\anaconda3\\envs\\1_py39\\lib\\site-packages (from requests->transformers) (2.0.4)\n",
      "Requirement already satisfied: certifi>=2017.4.17 in c:\\users\\user\\anaconda3\\envs\\1_py39\\lib\\site-packages (from requests->transformers) (2022.12.7)\n"
     ]
    },
    {
     "name": "stderr",
     "output_type": "stream",
     "text": [
      "Some weights of the model checkpoint at beomi/kcbert-base were not used when initializing BertModel: ['cls.predictions.bias', 'cls.predictions.decoder.weight', 'cls.predictions.decoder.bias', 'cls.predictions.transform.LayerNorm.bias', 'cls.predictions.transform.dense.bias', 'cls.predictions.transform.LayerNorm.weight', 'cls.seq_relationship.bias', 'cls.predictions.transform.dense.weight', 'cls.seq_relationship.weight']\n",
      "- This IS expected if you are initializing BertModel from the checkpoint of a model trained on another task or with another architecture (e.g. initializing a BertForSequenceClassification model from a BertForPreTraining model).\n",
      "- This IS NOT expected if you are initializing BertModel from the checkpoint of a model that you expect to be exactly identical (initializing a BertForSequenceClassification model from a BertForSequenceClassification model).\n"
     ]
    }
   ],
   "source": [
    "!pip install transformers\n",
    "\n",
    "#Higgingface import\n",
    "from transformers import BertTokenizer, BertModel\n",
    "# from transformers import AutoModel\n",
    "\n",
    "#Hugginggece tokenizer/model load\n",
    "bert_tokenizer = BertTokenizer.from_pretrained(\"beomi/kcbert-base\") # 사전 토크나이저 로드\n",
    "bert_model = BertModel.from_pretrained(\"beomi/kcbert-base\") # 사전 학습모델 로드"
   ]
  },
  {
   "cell_type": "code",
   "execution_count": 3,
   "metadata": {
    "colab": {
     "base_uri": "https://localhost:8080/"
    },
    "id": "UsNq8PEVZb_6",
    "outputId": "956f8295-03b2-4d6a-fd9e-760adaa4eb17"
   },
   "outputs": [
    {
     "name": "stdout",
     "output_type": "stream",
     "text": [
      "['지금', '시간', '새벽', '3', '##시', ',', '기네', '##스는', '역시', '맛', '##있어', '!']\n",
      "['나는', '종로', '##구', '##청', '##에', '갔다', '.']\n",
      "{'input_ids': [2, 8001, 8485, 12866, 22, 4039, 15, 28057, 15299, 8294, 1306, 10566, 5, 3], 'token_type_ids': [0, 0, 0, 0, 0, 0, 0, 0, 0, 0, 0, 0, 0, 0], 'attention_mask': [1, 1, 1, 1, 1, 1, 1, 1, 1, 1, 1, 1, 1, 1]}\n"
     ]
    }
   ],
   "source": [
    "#Tokenizer\n",
    "\n",
    "print(bert_tokenizer.tokenize('지금 시간 새벽 3시, 기네스는 역시 맛있어!')) # 서브워드기반 토큰화 결과\n",
    "print(bert_tokenizer.tokenize('나는 종로구청에 갔다.')) # 서브워드기반 토큰화 결과\n",
    "print(bert_tokenizer('지금 시간 새벽 3시, 기네스는 역시 맛있어!'))  #input_ids, token_type_ids, attention_mask"
   ]
  },
  {
   "cell_type": "markdown",
   "metadata": {
    "id": "zbvmYBYAQLrn"
   },
   "source": [
    "* input_ids : token들의 id 리스트(sequence of token id).\n",
    "\n",
    "* token_type_ids : 각 token이 어떤 문장에 속하는지를 나타내는 리스트. BERT는 한 번에 두 문장(sentence A, sentence B)을 입력으로 받을 수 있는데, bert-base-uncased tokenizer는 sentence A에 속하는 token에는 0을, sentence B에 속하는 token에는 1을 부여한다.\n",
    "\n",
    "* attention_mask : attention 연산이 수행되어야 할 token과 무시해야 할 token을 구별하는 정보가 담긴 리스트. bert-base-uncased tokenizer는 attention 연산이 수행되어야 할, 일반적인 token에는 1을 부여하고, padding과 같이 attention 연산이 수행될 필요가 없는 token들에는 0을 부여한다."
   ]
  },
  {
   "cell_type": "code",
   "execution_count": 4,
   "metadata": {
    "colab": {
     "base_uri": "https://localhost:8080/"
    },
    "id": "buCDqHToaY_P",
    "outputId": "a108a12e-6fc4-4d91-cbf3-2481ad480b69"
   },
   "outputs": [
    {
     "name": "stdout",
     "output_type": "stream",
     "text": [
      "{'input_ids': tensor([[    2,  8001,  8485, 12866,    22,  4039,    15, 28057, 15299,  8294,\n",
      "          1306, 10566,     5,     3]]), 'token_type_ids': tensor([[0, 0, 0, 0, 0, 0, 0, 0, 0, 0, 0, 0, 0, 0]]), 'attention_mask': tensor([[1, 1, 1, 1, 1, 1, 1, 1, 1, 1, 1, 1, 1, 1]])}\n",
      "torch.Size([1, 14])\n",
      "odict_keys(['last_hidden_state', 'pooler_output'])\n",
      "torch.Size([1, 14, 768])\n",
      "torch.Size([1, 768])\n"
     ]
    }
   ],
   "source": [
    "#Model\n",
    "token = bert_tokenizer('지금 시간 새벽 3시, 기네스는 역시 맛있어!', return_tensors=\"pt\") # retrun_tensors=\"pt\" >> token을 tensor로 반환\n",
    "print(token)\n",
    "print(token['input_ids'].size()) # tensor 사이즈\n",
    "\n",
    "model_output = bert_model(input_ids=token['input_ids'], token_type_ids=token['token_type_ids'], attention_mask=token['attention_mask'])\n",
    "\n",
    "print(model_output.keys())\n",
    "print(model_output['last_hidden_state'].size()) # 마지막 layer의 hidden state의 벡터값 사이즈(입력된 문장이 14개의 토큰으로 구성됨 > 14개의 토큰에 대한 벡터값이 768)\n",
    "print(model_output['pooler_output'].size()) # CLS 토큰에 대한 벡터값 사이즈 (CLS : 문장시작을 표시하기 위한 토큰)"
   ]
  },
  {
   "cell_type": "code",
   "execution_count": 5,
   "metadata": {
    "id": "wMoRbqJJ7xEn"
   },
   "outputs": [],
   "source": [
    "#네이버 뉴스리뷰 데이터 load\n",
    "\n",
    "urllib.request.urlretrieve(\"https://raw.githubusercontent.com/e9t/nsmc/master/ratings_train.txt\", filename=\"ratings_train.txt\")\n",
    "urllib.request.urlretrieve(\"https://raw.githubusercontent.com/e9t/nsmc/master/ratings_test.txt\", filename=\"ratings_test.txt\")\n",
    "\n",
    "row_train_data = pd.read_table('ratings_train.txt')\n",
    "row_test_data = pd.read_table('ratings_test.txt')"
   ]
  },
  {
   "cell_type": "code",
   "execution_count": 6,
   "metadata": {
    "colab": {
     "base_uri": "https://localhost:8080/",
     "height": 424
    },
    "id": "bmXSoVwi7cs_",
    "outputId": "3d853f6e-464e-42fd-b7e3-62d3e834e43f"
   },
   "outputs": [
    {
     "data": {
      "text/html": [
       "<div>\n",
       "<style scoped>\n",
       "    .dataframe tbody tr th:only-of-type {\n",
       "        vertical-align: middle;\n",
       "    }\n",
       "\n",
       "    .dataframe tbody tr th {\n",
       "        vertical-align: top;\n",
       "    }\n",
       "\n",
       "    .dataframe thead th {\n",
       "        text-align: right;\n",
       "    }\n",
       "</style>\n",
       "<table border=\"1\" class=\"dataframe\">\n",
       "  <thead>\n",
       "    <tr style=\"text-align: right;\">\n",
       "      <th></th>\n",
       "      <th>id</th>\n",
       "      <th>document</th>\n",
       "      <th>label</th>\n",
       "    </tr>\n",
       "  </thead>\n",
       "  <tbody>\n",
       "    <tr>\n",
       "      <th>0</th>\n",
       "      <td>9976970</td>\n",
       "      <td>아 더빙.. 진짜 짜증나네요 목소리</td>\n",
       "      <td>0</td>\n",
       "    </tr>\n",
       "    <tr>\n",
       "      <th>1</th>\n",
       "      <td>3819312</td>\n",
       "      <td>흠...포스터보고 초딩영화줄....오버연기조차 가볍지 않구나</td>\n",
       "      <td>1</td>\n",
       "    </tr>\n",
       "    <tr>\n",
       "      <th>2</th>\n",
       "      <td>10265843</td>\n",
       "      <td>너무재밓었다그래서보는것을추천한다</td>\n",
       "      <td>0</td>\n",
       "    </tr>\n",
       "    <tr>\n",
       "      <th>3</th>\n",
       "      <td>9045019</td>\n",
       "      <td>교도소 이야기구먼 ..솔직히 재미는 없다..평점 조정</td>\n",
       "      <td>0</td>\n",
       "    </tr>\n",
       "    <tr>\n",
       "      <th>4</th>\n",
       "      <td>6483659</td>\n",
       "      <td>사이몬페그의 익살스런 연기가 돋보였던 영화!스파이더맨에서 늙어보이기만 했던 커스틴 ...</td>\n",
       "      <td>1</td>\n",
       "    </tr>\n",
       "    <tr>\n",
       "      <th>...</th>\n",
       "      <td>...</td>\n",
       "      <td>...</td>\n",
       "      <td>...</td>\n",
       "    </tr>\n",
       "    <tr>\n",
       "      <th>149995</th>\n",
       "      <td>6222902</td>\n",
       "      <td>인간이 문제지.. 소는 뭔죄인가..</td>\n",
       "      <td>0</td>\n",
       "    </tr>\n",
       "    <tr>\n",
       "      <th>149996</th>\n",
       "      <td>8549745</td>\n",
       "      <td>평점이 너무 낮아서...</td>\n",
       "      <td>1</td>\n",
       "    </tr>\n",
       "    <tr>\n",
       "      <th>149997</th>\n",
       "      <td>9311800</td>\n",
       "      <td>이게 뭐요? 한국인은 거들먹거리고 필리핀 혼혈은 착하다?</td>\n",
       "      <td>0</td>\n",
       "    </tr>\n",
       "    <tr>\n",
       "      <th>149998</th>\n",
       "      <td>2376369</td>\n",
       "      <td>청춘 영화의 최고봉.방황과 우울했던 날들의 자화상</td>\n",
       "      <td>1</td>\n",
       "    </tr>\n",
       "    <tr>\n",
       "      <th>149999</th>\n",
       "      <td>9619869</td>\n",
       "      <td>한국 영화 최초로 수간하는 내용이 담긴 영화</td>\n",
       "      <td>0</td>\n",
       "    </tr>\n",
       "  </tbody>\n",
       "</table>\n",
       "<p>150000 rows × 3 columns</p>\n",
       "</div>"
      ],
      "text/plain": [
       "              id                                           document  label\n",
       "0        9976970                                아 더빙.. 진짜 짜증나네요 목소리      0\n",
       "1        3819312                  흠...포스터보고 초딩영화줄....오버연기조차 가볍지 않구나      1\n",
       "2       10265843                                  너무재밓었다그래서보는것을추천한다      0\n",
       "3        9045019                      교도소 이야기구먼 ..솔직히 재미는 없다..평점 조정      0\n",
       "4        6483659  사이몬페그의 익살스런 연기가 돋보였던 영화!스파이더맨에서 늙어보이기만 했던 커스틴 ...      1\n",
       "...          ...                                                ...    ...\n",
       "149995   6222902                                인간이 문제지.. 소는 뭔죄인가..      0\n",
       "149996   8549745                                      평점이 너무 낮아서...      1\n",
       "149997   9311800                    이게 뭐요? 한국인은 거들먹거리고 필리핀 혼혈은 착하다?      0\n",
       "149998   2376369                        청춘 영화의 최고봉.방황과 우울했던 날들의 자화상      1\n",
       "149999   9619869                           한국 영화 최초로 수간하는 내용이 담긴 영화      0\n",
       "\n",
       "[150000 rows x 3 columns]"
      ]
     },
     "execution_count": 6,
     "metadata": {},
     "output_type": "execute_result"
    }
   ],
   "source": [
    "row_train_data # (150000, 3)"
   ]
  },
  {
   "cell_type": "code",
   "execution_count": 7,
   "metadata": {
    "colab": {
     "base_uri": "https://localhost:8080/",
     "height": 424
    },
    "id": "nFMawtgAQVH3",
    "outputId": "32efd3b1-9398-4bb8-d31d-ca1d397b4d6c"
   },
   "outputs": [
    {
     "data": {
      "text/html": [
       "<div>\n",
       "<style scoped>\n",
       "    .dataframe tbody tr th:only-of-type {\n",
       "        vertical-align: middle;\n",
       "    }\n",
       "\n",
       "    .dataframe tbody tr th {\n",
       "        vertical-align: top;\n",
       "    }\n",
       "\n",
       "    .dataframe thead th {\n",
       "        text-align: right;\n",
       "    }\n",
       "</style>\n",
       "<table border=\"1\" class=\"dataframe\">\n",
       "  <thead>\n",
       "    <tr style=\"text-align: right;\">\n",
       "      <th></th>\n",
       "      <th>id</th>\n",
       "      <th>document</th>\n",
       "      <th>label</th>\n",
       "    </tr>\n",
       "  </thead>\n",
       "  <tbody>\n",
       "    <tr>\n",
       "      <th>0</th>\n",
       "      <td>6270596</td>\n",
       "      <td>굳 ㅋ</td>\n",
       "      <td>1</td>\n",
       "    </tr>\n",
       "    <tr>\n",
       "      <th>1</th>\n",
       "      <td>9274899</td>\n",
       "      <td>GDNTOPCLASSINTHECLUB</td>\n",
       "      <td>0</td>\n",
       "    </tr>\n",
       "    <tr>\n",
       "      <th>2</th>\n",
       "      <td>8544678</td>\n",
       "      <td>뭐야 이 평점들은.... 나쁘진 않지만 10점 짜리는 더더욱 아니잖아</td>\n",
       "      <td>0</td>\n",
       "    </tr>\n",
       "    <tr>\n",
       "      <th>3</th>\n",
       "      <td>6825595</td>\n",
       "      <td>지루하지는 않은데 완전 막장임... 돈주고 보기에는....</td>\n",
       "      <td>0</td>\n",
       "    </tr>\n",
       "    <tr>\n",
       "      <th>4</th>\n",
       "      <td>6723715</td>\n",
       "      <td>3D만 아니었어도 별 다섯 개 줬을텐데.. 왜 3D로 나와서 제 심기를 불편하게 하죠??</td>\n",
       "      <td>0</td>\n",
       "    </tr>\n",
       "    <tr>\n",
       "      <th>...</th>\n",
       "      <td>...</td>\n",
       "      <td>...</td>\n",
       "      <td>...</td>\n",
       "    </tr>\n",
       "    <tr>\n",
       "      <th>49995</th>\n",
       "      <td>4608761</td>\n",
       "      <td>오랜만에 평점 로긴했네ㅋㅋ 킹왕짱 쌈뽕한 영화를 만났습니다 강렬하게 육쾌함</td>\n",
       "      <td>1</td>\n",
       "    </tr>\n",
       "    <tr>\n",
       "      <th>49996</th>\n",
       "      <td>5308387</td>\n",
       "      <td>의지 박약들이나 하는거다 탈영은 일단 주인공 김대희 닮았고 이등병 찐따 OOOO</td>\n",
       "      <td>0</td>\n",
       "    </tr>\n",
       "    <tr>\n",
       "      <th>49997</th>\n",
       "      <td>9072549</td>\n",
       "      <td>그림도 좋고 완성도도 높았지만... 보는 내내 불안하게 만든다</td>\n",
       "      <td>0</td>\n",
       "    </tr>\n",
       "    <tr>\n",
       "      <th>49998</th>\n",
       "      <td>5802125</td>\n",
       "      <td>절대 봐서는 안 될 영화.. 재미도 없고 기분만 잡치고.. 한 세트장에서 다 해먹네</td>\n",
       "      <td>0</td>\n",
       "    </tr>\n",
       "    <tr>\n",
       "      <th>49999</th>\n",
       "      <td>6070594</td>\n",
       "      <td>마무리는 또 왜이래</td>\n",
       "      <td>0</td>\n",
       "    </tr>\n",
       "  </tbody>\n",
       "</table>\n",
       "<p>50000 rows × 3 columns</p>\n",
       "</div>"
      ],
      "text/plain": [
       "            id                                           document  label\n",
       "0      6270596                                                굳 ㅋ      1\n",
       "1      9274899                               GDNTOPCLASSINTHECLUB      0\n",
       "2      8544678             뭐야 이 평점들은.... 나쁘진 않지만 10점 짜리는 더더욱 아니잖아      0\n",
       "3      6825595                   지루하지는 않은데 완전 막장임... 돈주고 보기에는....      0\n",
       "4      6723715  3D만 아니었어도 별 다섯 개 줬을텐데.. 왜 3D로 나와서 제 심기를 불편하게 하죠??      0\n",
       "...        ...                                                ...    ...\n",
       "49995  4608761          오랜만에 평점 로긴했네ㅋㅋ 킹왕짱 쌈뽕한 영화를 만났습니다 강렬하게 육쾌함      1\n",
       "49996  5308387       의지 박약들이나 하는거다 탈영은 일단 주인공 김대희 닮았고 이등병 찐따 OOOO      0\n",
       "49997  9072549                 그림도 좋고 완성도도 높았지만... 보는 내내 불안하게 만든다      0\n",
       "49998  5802125     절대 봐서는 안 될 영화.. 재미도 없고 기분만 잡치고.. 한 세트장에서 다 해먹네      0\n",
       "49999  6070594                                         마무리는 또 왜이래      0\n",
       "\n",
       "[50000 rows x 3 columns]"
      ]
     },
     "execution_count": 7,
     "metadata": {},
     "output_type": "execute_result"
    }
   ],
   "source": [
    "row_test_data # (50000, 3)"
   ]
  },
  {
   "cell_type": "code",
   "execution_count": 8,
   "metadata": {
    "colab": {
     "base_uri": "https://localhost:8080/"
    },
    "id": "tg-5QlQv91IF",
    "outputId": "063fa149-1e40-47f1-b542-6387398197aa"
   },
   "outputs": [
    {
     "name": "stdout",
     "output_type": "stream",
     "text": [
      "Requirement already satisfied: emoji==1.7.0 in c:\\users\\user\\anaconda3\\envs\\1_py39\\lib\\site-packages (1.7.0)\n",
      "Requirement already satisfied: soynlp in c:\\users\\user\\anaconda3\\envs\\1_py39\\lib\\site-packages (0.0.493)\n",
      "Requirement already satisfied: numpy>=1.12.1 in c:\\users\\user\\anaconda3\\envs\\1_py39\\lib\\site-packages (from soynlp) (1.23.5)\n",
      "Requirement already satisfied: scikit-learn>=0.20.0 in c:\\users\\user\\anaconda3\\envs\\1_py39\\lib\\site-packages (from soynlp) (1.2.1)\n",
      "Requirement already satisfied: psutil>=5.0.1 in c:\\users\\user\\anaconda3\\envs\\1_py39\\lib\\site-packages (from soynlp) (5.9.0)\n",
      "Requirement already satisfied: scipy>=1.1.0 in c:\\users\\user\\anaconda3\\envs\\1_py39\\lib\\site-packages (from soynlp) (1.10.0)\n",
      "Requirement already satisfied: threadpoolctl>=2.0.0 in c:\\users\\user\\anaconda3\\envs\\1_py39\\lib\\site-packages (from scikit-learn>=0.20.0->soynlp) (3.1.0)\n",
      "Requirement already satisfied: joblib>=1.1.1 in c:\\users\\user\\anaconda3\\envs\\1_py39\\lib\\site-packages (from scikit-learn>=0.20.0->soynlp) (1.2.0)\n"
     ]
    }
   ],
   "source": [
    "# 문장 기본 전처리\n",
    "\n",
    "!pip install emoji==1.7.0\n",
    "# AttributeError: module 'emoji' has no attribute 'UNICODE_EMOJI'\n",
    "# 위 에러로 인한 emoji 1.7.0 버전 설치\n",
    "# emoji 2.0.0 이후 버전부터는 emoji.UNICODE_EMOJI 사용불가\n",
    "!pip install soynlp\n",
    "\n",
    "import re # 정규표현식 사용을 위한 라이브러리\n",
    "import emoji # 이모지 처리를 위한 라이브러리\n",
    "from soynlp.normalizer import repeat_normalize\n",
    "\n",
    "'''\n",
    "soynlp : 한국어 분석을 위한 코드로, 학습데이터를 이용하지 않으면서 데이터에 존재하는 단어를 찾거나, 문장을 단어열로 분해, 혹은 품사 판별을 할 수 있는 비지도학습 접근법을 지향\n",
    "soynlp.normalizer : 대화 데이터, 댓글 데이터에 등장하는 반복되는 이모티콘의 정리 및 한글, 혹은 텍스트만 남기기 위한 함수를 제공\n",
    "(예시) repeat_normalize('와하하하하하하하하하핫', n_repeats=2) >>> '와하하핫'\n",
    "'''\n",
    "\n",
    "\n",
    "emojis = ''.join(emoji.UNICODE_EMOJI.keys()) # emojis : emoji keys 값들을 공백없이 합쳐서 반환\n",
    "pattern = re.compile(f'[^ .,?!/@$%~％·∼()\\x00-\\x7Fㄱ-ㅣ가-힣{emojis}]+')\n",
    "url_pattern = re.compile(\n",
    "    r'https?:\\/\\/(www\\.)?[-a-zA-Z0-9@:%._\\+~#=]{1,256}\\.[a-zA-Z0-9()]{1,6}\\b([-a-zA-Z0-9()@:%_\\+.~#?&//=]*)')\n",
    "\n",
    "# clean 함수 정의 : 문자열 정리 함수\n",
    "def clean(x):\n",
    "    x = pattern.sub(' ', x) # sub : 필요없는 문자들 한칸 공백으로 대체(substitute)\n",
    "    x = url_pattern.sub('', x) # sub : 인터넷 주소 형태 문자 삭제\n",
    "    x = x.strip() # strip : 문자열 앞뒤 공백 제거\n",
    "    x = repeat_normalize(x, num_repeats=2) # 반복되는 문자에 한하여 2회 반복만 남겨놓고 나머지 문자열 삭제\n",
    "    # (예시) repeat_normalize('와하하하하하하하하하핫', n_repeats=2) >>> '와하하핫'\n",
    "    return x"
   ]
  },
  {
   "cell_type": "code",
   "execution_count": 9,
   "metadata": {
    "id": "CvTkDdPrCska"
   },
   "outputs": [],
   "source": [
    "train_label = torch.tensor(row_train_data['label']) # 학습데이터 label\n",
    "test_label = torch.tensor(row_test_data['label']) # 시험데이터 label"
   ]
  },
  {
   "cell_type": "code",
   "execution_count": 10,
   "metadata": {
    "id": "hijvHLMv-O_o"
   },
   "outputs": [],
   "source": [
    "train_data = [clean(str(x)) for x in row_train_data['document']] # 학습데이터 document 문자열 데이터에 clean 함수 적용\n",
    "test_data = [clean(str(x)) for x in row_test_data['document']] # 시험데이터 document 문자열 데이터에 clean 함수 적용"
   ]
  },
  {
   "cell_type": "markdown",
   "metadata": {
    "id": "xU3GGnm2Ave0"
   },
   "source": [
    "# EDA\n",
    "\n",
    "## 데이터 톺아보기"
   ]
  },
  {
   "cell_type": "code",
   "execution_count": 11,
   "metadata": {
    "id": "sk2EHAenAtrH"
   },
   "outputs": [],
   "source": [
    "train_length = [len(x) for x in train_data] # 학습 데이터 각 행별 길이"
   ]
  },
  {
   "cell_type": "code",
   "execution_count": 12,
   "metadata": {
    "colab": {
     "base_uri": "https://localhost:8080/"
    },
    "id": "hWnrwaRlahVv",
    "outputId": "90ecc7d3-c0e6-4b0b-b74e-bf2f3d7b718f"
   },
   "outputs": [
    {
     "data": {
      "text/plain": [
       "150000"
      ]
     },
     "execution_count": 12,
     "metadata": {},
     "output_type": "execute_result"
    }
   ],
   "source": [
    "len(train_length) # 학습 데이터 총 갯수\n",
    "# 참고 : row_train_data 결과 : (150000, 3)"
   ]
  },
  {
   "cell_type": "code",
   "execution_count": 13,
   "metadata": {
    "colab": {
     "base_uri": "https://localhost:8080/",
     "height": 368
    },
    "collapsed": true,
    "id": "Mv2qs_WUA7eG",
    "jupyter": {
     "outputs_hidden": true
    },
    "outputId": "d5d18904-744d-417f-f523-400c208a8b63",
    "tags": []
   },
   "outputs": [
    {
     "ename": "TypeError",
     "evalue": "__init__() got an unexpected keyword argument 'nonposy'",
     "output_type": "error",
     "traceback": [
      "\u001b[1;31m---------------------------------------------------------------------------\u001b[0m",
      "\u001b[1;31mTypeError\u001b[0m                                 Traceback (most recent call last)",
      "Cell \u001b[1;32mIn[13], line 12\u001b[0m\n\u001b[0;32m      5\u001b[0m \u001b[38;5;66;03m# 히스토그램 선언\u001b[39;00m\n\u001b[0;32m      6\u001b[0m \u001b[38;5;66;03m# bins: 히스토그램 값들에 대한 버켓 범위\u001b[39;00m\n\u001b[0;32m      7\u001b[0m \u001b[38;5;66;03m# range: x축 값의 범위\u001b[39;00m\n\u001b[0;32m      8\u001b[0m \u001b[38;5;66;03m# alpha: 그래프 색상 투명도\u001b[39;00m\n\u001b[0;32m      9\u001b[0m \u001b[38;5;66;03m# color: 그래프 색상\u001b[39;00m\n\u001b[0;32m     10\u001b[0m \u001b[38;5;66;03m# label: 그래프에 대한 라벨\u001b[39;00m\n\u001b[0;32m     11\u001b[0m plt\u001b[38;5;241m.\u001b[39mhist(train_length, bins\u001b[38;5;241m=\u001b[39m\u001b[38;5;241m200\u001b[39m, alpha\u001b[38;5;241m=\u001b[39m\u001b[38;5;241m0.5\u001b[39m, color\u001b[38;5;241m=\u001b[39m \u001b[38;5;124m'\u001b[39m\u001b[38;5;124mr\u001b[39m\u001b[38;5;124m'\u001b[39m, label\u001b[38;5;241m=\u001b[39m\u001b[38;5;124m'\u001b[39m\u001b[38;5;124mword\u001b[39m\u001b[38;5;124m'\u001b[39m)\n\u001b[1;32m---> 12\u001b[0m \u001b[43mplt\u001b[49m\u001b[38;5;241;43m.\u001b[39;49m\u001b[43myscale\u001b[49m\u001b[43m(\u001b[49m\u001b[38;5;124;43m'\u001b[39;49m\u001b[38;5;124;43mlog\u001b[39;49m\u001b[38;5;124;43m'\u001b[39;49m\u001b[43m,\u001b[49m\u001b[43m \u001b[49m\u001b[43mnonposy\u001b[49m\u001b[38;5;241;43m=\u001b[39;49m\u001b[38;5;124;43m'\u001b[39;49m\u001b[38;5;124;43mclip\u001b[39;49m\u001b[38;5;124;43m'\u001b[39;49m\u001b[43m)\u001b[49m\n\u001b[0;32m     14\u001b[0m \u001b[38;5;66;03m# 그래프 제목\u001b[39;00m\n\u001b[0;32m     15\u001b[0m plt\u001b[38;5;241m.\u001b[39mtitle(\u001b[38;5;124m'\u001b[39m\u001b[38;5;124mLog-Histogram of length of review\u001b[39m\u001b[38;5;124m'\u001b[39m)\n",
      "File \u001b[1;32m~\\anaconda3\\envs\\1_py39\\lib\\site-packages\\matplotlib\\pyplot.py:3041\u001b[0m, in \u001b[0;36myscale\u001b[1;34m(value, **kwargs)\u001b[0m\n\u001b[0;32m   3039\u001b[0m \u001b[38;5;129m@_copy_docstring_and_deprecators\u001b[39m(Axes\u001b[38;5;241m.\u001b[39mset_yscale)\n\u001b[0;32m   3040\u001b[0m \u001b[38;5;28;01mdef\u001b[39;00m \u001b[38;5;21myscale\u001b[39m(value, \u001b[38;5;241m*\u001b[39m\u001b[38;5;241m*\u001b[39mkwargs):\n\u001b[1;32m-> 3041\u001b[0m     \u001b[38;5;28;01mreturn\u001b[39;00m gca()\u001b[38;5;241m.\u001b[39mset_yscale(value, \u001b[38;5;241m*\u001b[39m\u001b[38;5;241m*\u001b[39mkwargs)\n",
      "File \u001b[1;32m~\\anaconda3\\envs\\1_py39\\lib\\site-packages\\matplotlib\\axes\\_base.py:73\u001b[0m, in \u001b[0;36m_axis_method_wrapper.__set_name__.<locals>.wrapper\u001b[1;34m(self, *args, **kwargs)\u001b[0m\n\u001b[0;32m     72\u001b[0m \u001b[38;5;28;01mdef\u001b[39;00m \u001b[38;5;21mwrapper\u001b[39m(\u001b[38;5;28mself\u001b[39m, \u001b[38;5;241m*\u001b[39margs, \u001b[38;5;241m*\u001b[39m\u001b[38;5;241m*\u001b[39mkwargs):\n\u001b[1;32m---> 73\u001b[0m     \u001b[38;5;28;01mreturn\u001b[39;00m get_method(\u001b[38;5;28mself\u001b[39m)(\u001b[38;5;241m*\u001b[39margs, \u001b[38;5;241m*\u001b[39m\u001b[38;5;241m*\u001b[39mkwargs)\n",
      "File \u001b[1;32m~\\anaconda3\\envs\\1_py39\\lib\\site-packages\\matplotlib\\axis.py:816\u001b[0m, in \u001b[0;36mAxis._set_axes_scale\u001b[1;34m(self, value, **kwargs)\u001b[0m\n\u001b[0;32m    814\u001b[0m g \u001b[38;5;241m=\u001b[39m \u001b[38;5;28mself\u001b[39m\u001b[38;5;241m.\u001b[39maxes\u001b[38;5;241m.\u001b[39m_shared_axes[name]\n\u001b[0;32m    815\u001b[0m \u001b[38;5;28;01mfor\u001b[39;00m ax \u001b[38;5;129;01min\u001b[39;00m g\u001b[38;5;241m.\u001b[39mget_siblings(\u001b[38;5;28mself\u001b[39m\u001b[38;5;241m.\u001b[39maxes):\n\u001b[1;32m--> 816\u001b[0m     ax\u001b[38;5;241m.\u001b[39m_axis_map[name]\u001b[38;5;241m.\u001b[39m_set_scale(value, \u001b[38;5;241m*\u001b[39m\u001b[38;5;241m*\u001b[39mkwargs)\n\u001b[0;32m    817\u001b[0m     ax\u001b[38;5;241m.\u001b[39m_update_transScale()\n\u001b[0;32m    818\u001b[0m     ax\u001b[38;5;241m.\u001b[39mstale \u001b[38;5;241m=\u001b[39m \u001b[38;5;28;01mTrue\u001b[39;00m\n",
      "File \u001b[1;32m~\\anaconda3\\envs\\1_py39\\lib\\site-packages\\matplotlib\\axis.py:773\u001b[0m, in \u001b[0;36mAxis._set_scale\u001b[1;34m(self, value, **kwargs)\u001b[0m\n\u001b[0;32m    771\u001b[0m \u001b[38;5;28;01mdef\u001b[39;00m \u001b[38;5;21m_set_scale\u001b[39m(\u001b[38;5;28mself\u001b[39m, value, \u001b[38;5;241m*\u001b[39m\u001b[38;5;241m*\u001b[39mkwargs):\n\u001b[0;32m    772\u001b[0m     \u001b[38;5;28;01mif\u001b[39;00m \u001b[38;5;129;01mnot\u001b[39;00m \u001b[38;5;28misinstance\u001b[39m(value, mscale\u001b[38;5;241m.\u001b[39mScaleBase):\n\u001b[1;32m--> 773\u001b[0m         \u001b[38;5;28mself\u001b[39m\u001b[38;5;241m.\u001b[39m_scale \u001b[38;5;241m=\u001b[39m mscale\u001b[38;5;241m.\u001b[39mscale_factory(value, \u001b[38;5;28mself\u001b[39m, \u001b[38;5;241m*\u001b[39m\u001b[38;5;241m*\u001b[39mkwargs)\n\u001b[0;32m    774\u001b[0m     \u001b[38;5;28;01melse\u001b[39;00m:\n\u001b[0;32m    775\u001b[0m         \u001b[38;5;28mself\u001b[39m\u001b[38;5;241m.\u001b[39m_scale \u001b[38;5;241m=\u001b[39m value\n",
      "File \u001b[1;32m~\\anaconda3\\envs\\1_py39\\lib\\site-packages\\matplotlib\\scale.py:714\u001b[0m, in \u001b[0;36mscale_factory\u001b[1;34m(scale, axis, **kwargs)\u001b[0m\n\u001b[0;32m    712\u001b[0m     scale \u001b[38;5;241m=\u001b[39m scale\u001b[38;5;241m.\u001b[39mlower()\n\u001b[0;32m    713\u001b[0m scale_cls \u001b[38;5;241m=\u001b[39m _api\u001b[38;5;241m.\u001b[39mcheck_getitem(_scale_mapping, scale\u001b[38;5;241m=\u001b[39mscale)\n\u001b[1;32m--> 714\u001b[0m \u001b[38;5;28;01mreturn\u001b[39;00m scale_cls(axis, \u001b[38;5;241m*\u001b[39m\u001b[38;5;241m*\u001b[39mkwargs)\n",
      "\u001b[1;31mTypeError\u001b[0m: __init__() got an unexpected keyword argument 'nonposy'"
     ]
    },
    {
     "data": {
      "image/png": "[encoded data removed]",
      "text/plain": [
       "<Figure size 1200x500 with 1 Axes>"
      ]
     },
     "metadata": {},
     "output_type": "display_data"
    }
   ],
   "source": [
    "# 그래프에 대한 이미지 사이즈 선언\n",
    "# figsize: (가로, 세로) 형태의 튜플로 입력\n",
    "plt.figure(figsize=(12, 5))\n",
    "\n",
    "# 히스토그램 선언\n",
    "# bins: 히스토그램 값들에 대한 버켓 범위\n",
    "# range: x축 값의 범위\n",
    "# alpha: 그래프 색상 투명도\n",
    "# color: 그래프 색상\n",
    "# label: 그래프에 대한 라벨\n",
    "plt.hist(train_length, bins=200, alpha=0.5, color= 'r', label='word')\n",
    "plt.yscale('log', nonposy='clip')\n",
    "\n",
    "# 그래프 제목\n",
    "plt.title('Log-Histogram of length of review')\n",
    "\n",
    "# 그래프 x 축 라벨\n",
    "plt.xlabel('Length of review')\n",
    "\n",
    "# 그래프 y 축 라벨\n",
    "plt.ylabel('Number of review')"
   ]
  },
  {
   "cell_type": "code",
   "execution_count": 15,
   "metadata": {
    "colab": {
     "base_uri": "https://localhost:8080/",
     "height": 595
    },
    "collapsed": true,
    "id": "O3SmJCr6A7go",
    "jupyter": {
     "outputs_hidden": true
    },
    "outputId": "2f488b1e-c3fb-4950-c6d1-91a991073044",
    "tags": []
   },
   "outputs": [
    {
     "name": "stdout",
     "output_type": "stream",
     "text": [
      "리뷰 길이 최대 값: 146\n",
      "리뷰 길이 최소 값: 0\n",
      "리뷰 길이 평균 값: 35.06\n",
      "리뷰 길이 표준편차: 29.51\n",
      "리뷰 길이 중간 값: 27.0\n",
      "리뷰 길이 제 1 사분위: 16.0\n",
      "리뷰 길이 제 3 사분위: 42.0\n"
     ]
    },
    {
     "data": {
      "text/plain": [
       "{'whiskers': [<matplotlib.lines.Line2D at 0x200e51cb9a0>,\n",
       "  <matplotlib.lines.Line2D at 0x200e51cbc40>],\n",
       " 'caps': [<matplotlib.lines.Line2D at 0x200e51cbee0>,\n",
       "  <matplotlib.lines.Line2D at 0x200e81b61c0>],\n",
       " 'boxes': [<matplotlib.lines.Line2D at 0x200e51cb700>],\n",
       " 'medians': [<matplotlib.lines.Line2D at 0x200e81b6460>],\n",
       " 'fliers': [<matplotlib.lines.Line2D at 0x200e81b69a0>],\n",
       " 'means': [<matplotlib.lines.Line2D at 0x200e81b6700>]}"
      ]
     },
     "execution_count": 15,
     "metadata": {},
     "output_type": "execute_result"
    },
    {
     "data": {
      "image/png": "[encoded data removed]",
      "text/plain": [
       "<Figure size 1200x500 with 1 Axes>"
      ]
     },
     "metadata": {},
     "output_type": "display_data"
    }
   ],
   "source": [
    "print('리뷰 길이 최대 값: {}'.format(np.max(train_length)))\n",
    "print('리뷰 길이 최소 값: {}'.format(np.min(train_length)))\n",
    "print('리뷰 길이 평균 값: {:.2f}'.format(np.mean(train_length)))\n",
    "print('리뷰 길이 표준편차: {:.2f}'.format(np.std(train_length)))\n",
    "print('리뷰 길이 중간 값: {}'.format(np.median(train_length)))\n",
    "\n",
    "print('리뷰 길이 제 1 사분위: {}'.format(np.percentile(train_length, 25))) # 사분위의 대한 경우는 0~100 스케일로 되어있음\n",
    "print('리뷰 길이 제 3 사분위: {}'.format(np.percentile(train_length, 75))) # 사분위의 대한 경우는 0~100 스케일로 되어있음\n",
    "\n",
    "# 박스플롯 생성\n",
    "# 첫번째 parameter : 여러 분포에 대한 데이터 리스트를 입력\n",
    "# labels : 입력한 데이터에 대한 라벨\n",
    "# showmeans : 평균값을 마크함\n",
    "plt.figure(figsize=(12, 5))\n",
    "plt.boxplot(train_length,\n",
    "             labels=['counts'],\n",
    "             showmeans=True)"
   ]
  },
  {
   "cell_type": "markdown",
   "metadata": {
    "id": "MCRtfxODCJkw"
   },
   "source": [
    "# Bert Classifier Model"
   ]
  },
  {
   "cell_type": "code",
   "execution_count": 16,
   "metadata": {
    "id": "XLW4vbIO-0Pa"
   },
   "outputs": [],
   "source": [
    "class BertClassifier(nn.Module):\n",
    "    # TrnaformerTraining을 True로 하면 BERT 모델까지 학습되며, False로 하면 Transformer위에 Classification Head만 학습됩니다.\n",
    "    def __init__(self, device, bertTraining=False):\n",
    "        super(BertClassifier,self).__init__() # nn.Module의 __init__() 변수들을 상속받게 하여 사용할 수 있게 하는 역할 (https://cnu-jinseop.tistory.com/185?category=998353)\n",
    "\n",
    "        self.device = device\n",
    "        # https://github.com/monologg/KoELECTRA\n",
    "        # base model\n",
    "        self.bert = BertModel.from_pretrained(\"beomi/kcbert-base\") # base 모델 호출\n",
    "\n",
    "        # True of False를 분류하는 문제이기 때문에 Output을 1개만 내보냅니다.\n",
    "        self.classificationLayer1 = nn.Linear(768, 1) # 레이어 1층\n",
    "\n",
    "        self.bertTraining = bertTraining\n",
    "\n",
    "        self.dropout = nn.Dropout(0.3) # dropout 비율 설정 : 0.3\n",
    "\n",
    "    def forward(self, bert_input):\n",
    "\n",
    "        # Bert Model Forward\n",
    "        if self.bertTraining:\n",
    "            x = self.bert(input_ids=bert_input['input_ids'], token_type_ids=bert_input['token_type_ids'], attention_mask=bert_input['attention_mask'])\n",
    "        else:\n",
    "            with torch.no_grad(): # pytorch의 autograd engine 작동 멈춤 > 더이상 자동으로 gradient 트래킹 안함 > 메모리 사용량 아껴줌\n",
    "                x = self.bert(input_ids=bert_input['input_ids'], token_type_ids=bert_input['token_type_ids'], attention_mask=bert_input['attention_mask'])\n",
    "        \n",
    "        # Bert Model에서 CLS Token의 output만 사용합니다. = x['pooler_output']\n",
    "        x = F.gelu(x['pooler_output']) # TORCH.NN.FUNCTIONAL.GELU : 원본입력에 원본입력을 Gaussian distribution의 CDF를 통과한 값과 곱해주는 함수\n",
    "        \n",
    "        x = self.dropout(x)\n",
    "\n",
    "        x = self.classificationLayer1(x)\n",
    "        \n",
    "        # 최종적인 예측은 0~1사이의 확률값이길 원하니 sigmoid로 공역의 범위를 제한시킵니다.\n",
    "        x =  torch.sigmoid(x)   # 다중 분류인 경우 SOFTMAX\n",
    "\n",
    "        return x"
   ]
  },
  {
   "cell_type": "markdown",
   "metadata": {},
   "source": [
    "* bert_tokenizer (>>> bert_tokenizer = BertTokenizer.from_pretrained(\"beomi/kcbert-base\"))\n",
    "\n",
    "\n"
   ]
  },
  {
   "cell_type": "code",
   "execution_count": 17,
   "metadata": {
    "id": "kcqf2nKlAQ6G"
   },
   "outputs": [],
   "source": [
    "# bert 학습 모델 입력 만들기\n",
    "bert_input_train_data = [bert_tokenizer(x, max_length=150 ,padding='max_length', truncation=True, return_tensors='pt') for x in train_data]\n",
    "# max_length : 문장의 토큰 기준 최대 길이 (문장토큰최대길이=150)\n",
    "# padding='max_length' : 문장의 최대 길이에 맞춰 패딩\n",
    "# truncation=True : 문장 잘림 허용 옵션\n",
    "# retrun_tensors=\"pt\" : token을 tensor로 반환"
   ]
  },
  {
   "cell_type": "code",
   "execution_count": 18,
   "metadata": {
    "id": "tqiUo3WXBMOY"
   },
   "outputs": [],
   "source": [
    "# bert 시험 모델 입력 만들기\n",
    "bert_input_test_data = [bert_tokenizer(x, max_length=150 ,padding='max_length', truncation=True, return_tensors='pt') for x in test_data]\n",
    "# max_length : 문장의 토큰 기준 최대 길이 (문장토큰최대길이=150)\n",
    "# padding='max_length' : 문장의 최대 길이에 맞춰 패딩\n",
    "# truncation=True : 문장 잘림 허용 옵션\n",
    "# retrun_tensors=\"pt\" : token을 tensor로 반환"
   ]
  },
  {
   "cell_type": "code",
   "execution_count": 23,
   "metadata": {
    "colab": {
     "base_uri": "https://localhost:8080/"
    },
    "collapsed": true,
    "id": "GuFFiFQIB0zK",
    "jupyter": {
     "outputs_hidden": true
    },
    "outputId": "8e3b2bfb-bd22-43b9-c93c-25a1979aa5cf",
    "tags": []
   },
   "outputs": [
    {
     "ename": "SyntaxError",
     "evalue": "invalid syntax (1866832336.py, line 8)",
     "output_type": "error",
     "traceback": [
      "\u001b[1;36m  Cell \u001b[1;32mIn[23], line 8\u001b[1;36m\u001b[0m\n\u001b[1;33m    모델의 구조 상에 마지막 Layer가 Sigmoid 혹은 Softmax로 되어 있는 경우 이를 사용함\u001b[0m\n\u001b[1;37m        ^\u001b[0m\n\u001b[1;31mSyntaxError\u001b[0m\u001b[1;31m:\u001b[0m invalid syntax\n"
     ]
    }
   ],
   "source": [
    "device = 'cuda' if torch.cuda.is_available() else 'cpu'\n",
    "\n",
    "model = BertClassifier(device,True).to(device)\n",
    "\n",
    "loss_function = nn.BCELoss()  # Croess Entropy https://pytorch.org/docs/stable/generated/torch.nn.CrossEntropyLoss.html\n",
    "# BCELoss\n",
    "# 모델의 구조 상에 마지막 Layer가 Sigmoid 혹은 Softmax로 되어 있는 경우 이를 사용함\n",
    "# (즉, 모델의 출력이 각 라벨에 대한 확률값으로 구성되었을 때 사용 가능함)\n",
    "\n",
    "optimizer =  torch.optim.Adam(model.parameters(), lr= 2e-5) # optimizer 및 learning rate 설정"
   ]
  },
  {
   "cell_type": "code",
   "execution_count": 20,
   "metadata": {
    "colab": {
     "base_uri": "https://localhost:8080/"
    },
    "id": "zKOq1YBGDk0h",
    "outputId": "80031c18-cefd-43d6-95ff-029a0830721b"
   },
   "outputs": [
    {
     "name": "stderr",
     "output_type": "stream",
     "text": [
      "100%|███████████████████████████████████████████████████████████████████████████| 3125/3125 [13:48:19<00:00, 15.90s/it]\n",
      "100%|████████████████████████████████████████████████████████████████████████████| 1041/1041 [2:04:39<00:00,  7.18s/it]\n"
     ]
    },
    {
     "name": "stdout",
     "output_type": "stream",
     "text": [
      "Traini ACC :  0.8751333333333333\n",
      "Train Average Loss :  0.006070263562003772\n",
      "Test ACC :  0.89576\n",
      "Test Average Loss :  0.005208050286918879\n",
      "--------------------------------------------------\n"
     ]
    },
    {
     "name": "stderr",
     "output_type": "stream",
     "text": [
      "100%|███████████████████████████████████████████████████████████████████████████| 3125/3125 [15:12:53<00:00, 17.53s/it]\n",
      "100%|████████████████████████████████████████████████████████████████████████████| 1041/1041 [2:02:15<00:00,  7.05s/it]\n"
     ]
    },
    {
     "name": "stdout",
     "output_type": "stream",
     "text": [
      "Traini ACC :  0.9269333333333334\n",
      "Train Average Loss :  0.003865644020475447\n",
      "Test ACC :  0.89816\n",
      "Test Average Loss :  0.0057066375336796045\n",
      "--------------------------------------------------\n"
     ]
    },
    {
     "name": "stderr",
     "output_type": "stream",
     "text": [
      "100%|███████████████████████████████████████████████████████████████████████████| 3125/3125 [16:21:00<00:00, 18.84s/it]\n",
      "100%|████████████████████████████████████████████████████████████████████████████| 1041/1041 [2:00:40<00:00,  6.96s/it]"
     ]
    },
    {
     "name": "stdout",
     "output_type": "stream",
     "text": [
      "Traini ACC :  0.95764\n",
      "Train Average Loss :  0.0024402243461832404\n",
      "Test ACC :  0.89178\n",
      "Test Average Loss :  0.007155018482394517\n",
      "--------------------------------------------------\n"
     ]
    },
    {
     "name": "stderr",
     "output_type": "stream",
     "text": [
      "\n"
     ]
    }
   ],
   "source": [
    "BATCH_SIZE = 48\n",
    "EPOCH = 3\n",
    "\n",
    "train_acc_list = []\n",
    "train_loss_list = []\n",
    "test_acc_list = []\n",
    "test_loss_list =[]\n",
    "\n",
    "for epoch in range(EPOCH):\n",
    "    train_loss = 0\n",
    "    train_acc = 0\n",
    "\n",
    "    # train 진행\n",
    "    model.train()\n",
    "    for i in tqdm(range(len(bert_input_train_data)//BATCH_SIZE)):\n",
    "\n",
    "        batch_input = bert_input_train_data[i*BATCH_SIZE:(i+1)*BATCH_SIZE]\n",
    "        \n",
    "        # BERT 모델에 필요한 input 데이터\n",
    "        input_ids = torch.tensor([x['input_ids'].flatten().tolist() for x in batch_input]).to(device) # input_ids 데이터 텐서\n",
    "        token_type = torch.tensor([x['token_type_ids'].flatten().tolist() for x in batch_input]).to(device) # token_type 데이터 텐서\n",
    "        attention_mask = torch.tensor([x['attention_mask'].flatten().tolist() for x in batch_input]).to(device) # attention_mask 데이터 텐서\n",
    "\n",
    "        input = {'input_ids':input_ids, 'token_type_ids':token_type, 'attention_mask':attention_mask}\n",
    "\n",
    "        y_hat = model(input).flatten()\n",
    "        y_label = train_label[i*BATCH_SIZE:(i+1)*BATCH_SIZE].to(device).float()\n",
    "\n",
    "        optimizer.zero_grad()    # 이전 미분 값을 없애줘 > 초기화\n",
    "        loss = loss_function(y_hat, y_label) # loss 연산\n",
    "        loss.backward()         # 이번 step의 loss로 기울기를 계산해줘 > weight 연산\n",
    "        optimizer.step()        # 기울기를 가지고 parameter를 바꿔줘 > 업데이트\n",
    "\n",
    "        train_acc += sum(torch.round(y_hat)==y_label).item()\n",
    "        train_loss+=loss.item()\n",
    "        \n",
    "\n",
    "    # test 진행\n",
    "    test_acc = 0\n",
    "    test_loss = 0\n",
    "    model.eval()\n",
    "    with torch.no_grad():\n",
    "        for i in tqdm(range(len(bert_input_test_data)//BATCH_SIZE)):\n",
    "\n",
    "            batch_input = bert_input_test_data[i*BATCH_SIZE:(i+1)*BATCH_SIZE]\n",
    "\n",
    "            input_ids = torch.tensor([x['input_ids'].flatten().tolist() for x in batch_input]).to(device)\n",
    "            token_type = torch.tensor([x['token_type_ids'].flatten().tolist() for x in batch_input]).to(device)\n",
    "            attention_mask = torch.tensor([x['attention_mask'].flatten().tolist() for x in batch_input]).to(device)\n",
    "\n",
    "            input = {'input_ids':input_ids, 'token_type_ids':token_type, 'attention_mask':attention_mask}\n",
    "\n",
    "            y_hat = model(input).flatten()\n",
    "            y_label = test_label[i*BATCH_SIZE:(i+1)*BATCH_SIZE].to(device).float()\n",
    "\n",
    "            loss = loss_function(y_hat, y_label)\n",
    "\n",
    "            test_acc += sum(torch.round(y_hat)==y_label).item()\n",
    "            test_loss+=loss.item()\n",
    "\n",
    "    \n",
    "    # 결과값 리스트에 할당\n",
    "    train_acc_list.append(train_acc/len(bert_input_train_data))\n",
    "    train_loss_list.append(train_loss/len(bert_input_train_data))\n",
    "    test_acc_list.append(test_acc/len(bert_input_test_data))\n",
    "    test_loss_list.append(test_loss/len(bert_input_test_data))\n",
    "    print(\"Train ACC : \", train_acc/len(bert_input_train_data))\n",
    "    print(\"Train Average Loss : \", train_loss/len(bert_input_train_data))\n",
    "    print(\"Test ACC : \", test_acc/len(bert_input_test_data))\n",
    "    print(\"Test Average Loss : \", test_loss/len(bert_input_test_data))\n",
    "    print('-'*50)"
   ]
  },
  {
   "cell_type": "code",
   "execution_count": 21,
   "metadata": {
    "id": "N7wpLu7KMIJK"
   },
   "outputs": [
    {
     "data": {
      "image/png": "[encoded data removed]",
      "text/plain": [
       "<Figure size 640x480 with 1 Axes>"
      ]
     },
     "metadata": {},
     "output_type": "display_data"
    }
   ],
   "source": [
    "plt.plot(list(range(len(train_loss_list))),train_loss_list, label='Train Loss')\n",
    "plt.plot(list(range(len(test_loss_list))), test_loss_list, label='Validation Loss')\n",
    "\n",
    "plt.xlabel('Epoch')\n",
    "plt.ylabel('Loss')\n",
    "plt.legend()\n",
    "\n",
    "plt.show()"
   ]
  },
  {
   "cell_type": "code",
   "execution_count": 22,
   "metadata": {
    "id": "sTkA6uf8iBQT"
   },
   "outputs": [
    {
     "data": {
      "image/png": "[encoded data removed]",
      "text/plain": [
       "<Figure size 640x480 with 1 Axes>"
      ]
     },
     "metadata": {},
     "output_type": "display_data"
    }
   ],
   "source": [
    "plt.plot(list(range(len(train_acc_list))),train_acc_list, label='Train Accuracy')\n",
    "plt.plot(list(range(len(test_acc_list))),test_acc_list, label='Validation Accuracy')\n",
    "\n",
    "plt.xlabel('Epoch')\n",
    "plt.ylabel('Accuracy')\n",
    "plt.legend()\n",
    "\n",
    "plt.show()"
   ]
  },
  {
   "cell_type": "code",
   "execution_count": null,
   "metadata": {
    "id": "iYm0QTLUXsuv"
   },
   "outputs": [],
   "source": []
  },
  {
   "cell_type": "code",
   "execution_count": null,
   "metadata": {
    "id": "Ku2cYnFEXsxC"
   },
   "outputs": [],
   "source": []
  },
  {
   "cell_type": "code",
   "execution_count": null,
   "metadata": {
    "id": "gDwu7QZMXszb"
   },
   "outputs": [],
   "source": []
  },
  {
   "cell_type": "code",
   "execution_count": null,
   "metadata": {
    "id": "JWwggaGDXs_f"
   },
   "outputs": [],
   "source": []
  },
  {
   "cell_type": "code",
   "execution_count": null,
   "metadata": {
    "id": "FrFgwF2dXtCR"
   },
   "outputs": [],
   "source": []
  },
  {
   "cell_type": "code",
   "execution_count": null,
   "metadata": {
    "id": "ZIXlOhGfXtEz"
   },
   "outputs": [],
   "source": []
  },
  {
   "cell_type": "code",
   "execution_count": null,
   "metadata": {
    "id": "Oye3EEh0XtHH"
   },
   "outputs": [],
   "source": []
  },
  {
   "cell_type": "code",
   "execution_count": null,
   "metadata": {
    "id": "ocl3her1XtJX"
   },
   "outputs": [],
   "source": []
  },
  {
   "cell_type": "code",
   "execution_count": null,
   "metadata": {
    "id": "Pw7bb4EhXtLo"
   },
   "outputs": [],
   "source": []
  },
  {
   "cell_type": "code",
   "execution_count": null,
   "metadata": {
    "id": "KfEiaD5EXtOM"
   },
   "outputs": [],
   "source": []
  },
  {
   "cell_type": "code",
   "execution_count": null,
   "metadata": {
    "id": "ZMWUt0T2XtQi"
   },
   "outputs": [],
   "source": []
  },
  {
   "cell_type": "code",
   "execution_count": null,
   "metadata": {
    "id": "tdkCG5yDXtS4"
   },
   "outputs": [],
   "source": []
  },
  {
   "cell_type": "code",
   "execution_count": null,
   "metadata": {
    "id": "c26rCUEAXtVf"
   },
   "outputs": [],
   "source": []
  },
  {
   "cell_type": "code",
   "execution_count": null,
   "metadata": {
    "id": "VsXaOazgXtX1"
   },
   "outputs": [],
   "source": []
  },
  {
   "cell_type": "code",
   "execution_count": null,
   "metadata": {
    "id": "EM6j3VD-XtaI"
   },
   "outputs": [],
   "source": []
  }
 ],
 "metadata": {
  "accelerator": "GPU",
  "colab": {
   "provenance": []
  },
  "gpuClass": "standard",
  "kernelspec": {
   "display_name": "Python 3 (ipykernel)",
   "language": "python",
   "name": "python3"
  },
  "language_info": {
   "codemirror_mode": {
    "name": "ipython",
    "version": 3
   },
   "file_extension": ".py",
   "mimetype": "text/x-python",
   "name": "python",
   "nbconvert_exporter": "python",
   "pygments_lexer": "ipython3",
   "version": "3.9.16"
  }
 },
 "nbformat": 4,
 "nbformat_minor": 4
}
