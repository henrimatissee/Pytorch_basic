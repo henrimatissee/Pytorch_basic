{
 "cells": [
  {
   "cell_type": "markdown",
   "id": "509f9fce-dd02-4bb3-a341-b8c95abb5a01",
   "metadata": {},
   "source": [
    "## Introduction to Pytorch"
   ]
  },
  {
   "cell_type": "markdown",
   "id": "880bc7fc-bf30-438f-b080-36b1e117a8da",
   "metadata": {},
   "source": [
    "### PyTorch Tensors"
   ]
  },
  {
   "cell_type": "code",
   "execution_count": 1,
   "id": "ba106708-9f28-40a3-ac02-bce580e101ef",
   "metadata": {},
   "outputs": [],
   "source": [
    "import torch"
   ]
  },
  {
   "cell_type": "code",
   "execution_count": 2,
   "id": "74d189a6-315c-4774-b6ef-3db5db3dcf76",
   "metadata": {},
   "outputs": [
    {
     "name": "stdout",
     "output_type": "stream",
     "text": [
      "tensor([[0., 0., 0.],\n",
      "        [0., 0., 0.],\n",
      "        [0., 0., 0.],\n",
      "        [0., 0., 0.],\n",
      "        [0., 0., 0.]])\n",
      "torch.float32\n"
     ]
    }
   ],
   "source": [
    "z = torch.zeros(5,3)\n",
    "print(z)\n",
    "print(z.dtype)"
   ]
  },
  {
   "cell_type": "code",
   "execution_count": 3,
   "id": "8e6916df-01b8-4fd0-9247-a5863bb5a068",
   "metadata": {},
   "outputs": [
    {
     "name": "stdout",
     "output_type": "stream",
     "text": [
      "tensor([[1, 1, 1],\n",
      "        [1, 1, 1],\n",
      "        [1, 1, 1],\n",
      "        [1, 1, 1],\n",
      "        [1, 1, 1]], dtype=torch.int16)\n"
     ]
    }
   ],
   "source": [
    "i = torch.ones((5,3), dtype=torch.int16)\n",
    "print(i)"
   ]
  },
  {
   "cell_type": "markdown",
   "id": "3e4782ec-7a6b-40f6-a9cc-ef36f9608aa1",
   "metadata": {},
   "source": [
    "학습 가중치를 무작위로 초기화하는 것이 일반적이며, 종종 결과의 재현성을 위해 난수생성으로 특정 시드로 초기화합니다."
   ]
  },
  {
   "cell_type": "code",
   "execution_count": 6,
   "id": "1e7b20af-dc00-45db-9556-f09e86be8bbc",
   "metadata": {},
   "outputs": [
    {
     "name": "stdout",
     "output_type": "stream",
     "text": [
      "랜덤 tensor 값:\n",
      "tensor([[0.3126, 0.3791],\n",
      "        [0.3087, 0.0736]])\n",
      "\n",
      "다른 랜덤 tensor 값:\n",
      "tensor([[0.4216, 0.0691],\n",
      "        [0.2332, 0.4047]])\n",
      "\n",
      "r1과 일치\n",
      "tensor([[0.2162, 0.9927],\n",
      "        [0.4128, 0.5938]])\n"
     ]
    }
   ],
   "source": [
    "torch.manual_seed(1729)\n",
    "r1 = torch.rand(2,2)\n",
    "print('랜덤 tensor 값:')\n",
    "print(r1)\n",
    "\n",
    "r2 = torch.rand(2,2)\n",
    "print('\\n다른 랜덤 tensor 값:')\n",
    "print(r2) # 새로운 2x2 행렬 값\n",
    "\n",
    "r3 = torch.rand(2,2)\n",
    "print('\\nr1과 일치')\n",
    "print(r3) # 동일한 시드값으로 인해 r1 값이 반복되어 행렬값으로 나옵니다."
   ]
  },
  {
   "cell_type": "code",
   "execution_count": 8,
   "id": "2153f3d9-d588-44c6-80eb-34bb6145d321",
   "metadata": {},
   "outputs": [
    {
     "name": "stdout",
     "output_type": "stream",
     "text": [
      "tensor([[1., 1., 1.],\n",
      "        [1., 1., 1.]])\n",
      "tensor([[2., 2., 2.],\n",
      "        [2., 2., 2.]])\n",
      "tensor([[3., 3., 3.],\n",
      "        [3., 3., 3.]])\n",
      "torch.Size([2, 3])\n"
     ]
    }
   ],
   "source": [
    "ones = torch.ones(2,3)\n",
    "print(ones)\n",
    "\n",
    "twos = torch.ones(2,3) * 2 # 모든 원소에 2를 곱합니다.\n",
    "print(twos)\n",
    "\n",
    "threes = ones + twos # shape이 비슷하기 때문에 더할 수 있습니다.\n",
    "print(threes) # tensor의 원소별 더한 값이 결과로 나옵니다.\n",
    "print(threes.shape) # 입력 tensor와 동일한 차원을 가지고 있습니다.\n",
    "\n",
    "r1 = torch.rand(2,3)\n",
    "r2 = torch.rand(3,2)\n",
    "# 런타임 오류를 발생시키려면 아래 줄의 주석을 해제합니다.\n",
    "# r3 = r1 + r2"
   ]
  },
  {
   "cell_type": "markdown",
   "id": "b90c4173-6d6e-4b94-8557-5cecee58997c",
   "metadata": {},
   "source": [
    "torch 수학 연산 예제"
   ]
  },
  {
   "cell_type": "code",
   "execution_count": 9,
   "id": "e8237997-faa3-44cd-98d2-aa2e5b6b9cb5",
   "metadata": {},
   "outputs": [
    {
     "name": "stdout",
     "output_type": "stream",
     "text": [
      "랜덤 행렬값, r:\n",
      "tensor([[ 0.0124,  0.6939],\n",
      "        [-0.4823, -0.4587]])\n"
     ]
    }
   ],
   "source": [
    "r = (torch.rand(2,2) - 0.5) * 2 # -1과 1 사이의 값을 가집니다.\n",
    "print('랜덤 행렬값, r:')\n",
    "print(r)"
   ]
  },
  {
   "cell_type": "code",
   "execution_count": 12,
   "id": "04568572-3ff0-4ac1-8837-96777c30a57f",
   "metadata": {},
   "outputs": [
    {
     "name": "stdout",
     "output_type": "stream",
     "text": [
      "r의 절대값:\n",
      "tensor([[0.0124, 0.6939],\n",
      "        [0.4823, 0.4587]])\n"
     ]
    }
   ],
   "source": [
    "# 일반적인 수학적 연산은 다음과 같이 지원됩니다.\n",
    "print('r의 절대값:')\n",
    "print(torch.abs(r))"
   ]
  },
  {
   "cell_type": "code",
   "execution_count": 13,
   "id": "5ba6ee75-650a-4d7f-ad92-6cffd96fdc92",
   "metadata": {},
   "outputs": [
    {
     "name": "stdout",
     "output_type": "stream",
     "text": [
      "r의 역 사인 함수:\n",
      "tensor([[ 0.0124,  0.7669],\n",
      "        [-0.5033, -0.4765]])\n"
     ]
    }
   ],
   "source": [
    "# 삼각함수를 사용할 수 있습니다.\n",
    "print('r의 역 사인 함수:')\n",
    "print(torch.asin(r))"
   ]
  },
  {
   "cell_type": "code",
   "execution_count": 16,
   "id": "04e889b1-7a63-4d2a-b343-635b4d0281d6",
   "metadata": {},
   "outputs": [
    {
     "name": "stdout",
     "output_type": "stream",
     "text": [
      "r의 행렬식:\n",
      "tensor(0.3290)\n",
      "\n",
      "r의 특이값 분해:\n",
      "torch.return_types.svd(\n",
      "U=tensor([[ 0.7278, -0.6858],\n",
      "        [-0.6858, -0.7278]]),\n",
      "S=tensor([0.8872, 0.3708]),\n",
      "V=tensor([[ 0.3830,  0.9237],\n",
      "        [ 0.9237, -0.3830]]))\n"
     ]
    }
   ],
   "source": [
    "# 행렬식 및 특이값 분해와 같은 선형 대수 연산을 사용할 수 있습니다.\n",
    "print('r의 행렬식:')\n",
    "print(torch.det(r))\n",
    "print('\\nr의 특이값 분해:')\n",
    "print(torch.svd(r))"
   ]
  },
  {
   "cell_type": "code",
   "execution_count": 18,
   "id": "614e1c4f-9e9b-40d1-b7e8-9da4a8a829bd",
   "metadata": {},
   "outputs": [
    {
     "name": "stdout",
     "output_type": "stream",
     "text": [
      "r의 평균 및 표준편차:\n",
      "(tensor(0.5510), tensor(-0.0587))\n",
      "\n",
      "r의 최대값:\n",
      "tensor(0.6939)\n"
     ]
    }
   ],
   "source": [
    "# 통계 및 집합 연산 등을 사용할 수 있습니다:\n",
    "print('r의 평균 및 표준편차:')\n",
    "print(torch.std_mean(r))\n",
    "print('\\nr의 최대값:')\n",
    "print(torch.max(r))"
   ]
  },
  {
   "cell_type": "markdown",
   "id": "1732e25b-1eb1-4636-9743-5eb00780e616",
   "metadata": {},
   "source": [
    "### PyTorch Models"
   ]
  },
  {
   "cell_type": "code",
   "execution_count": 20,
   "id": "897cc8bb-6100-4713-a5b5-2a9e889ca60a",
   "metadata": {},
   "outputs": [],
   "source": [
    "import torch                     # PyTorch 모든 모듈 가져오기\n",
    "import torch.nn as nn            # torch.nn.Module의 경우 PyTorch model의 부모 객체\n",
    "import torch.nn.functional as F  # 활성화 함수 모듈 가져오기"
   ]
  },
  {
   "cell_type": "code",
   "execution_count": 21,
   "id": "00d39b92-56e7-475e-936a-00bed6900969",
   "metadata": {},
   "outputs": [],
   "source": [
    "class LeNet(nn.Module):\n",
    "\n",
    "    def __init__(self):\n",
    "        super(LeNet, self).__init__()\n",
    "        # 입력 이미지 채널, 6개의 output 채널, 3x3 정방 합성곱 커널을 사용합니다.\n",
    "        self.conv1 = nn.Conv2d(1, 6, 3) # 합성곱 계층 >> 연산 과정 아래 확인!\n",
    "        self.conv2 = nn.Conv2d(6, 16, 3)\n",
    "        # 아핀 변환: y = Wx + b >> 아핀변환 = 선형변환을 한 후 시프팅(Translation)\n",
    "        self.fc1 = nn.Linear(16 * 6 * 6, 120)  # 6*6 이미지 차원\n",
    "        self.fc2 = nn.Linear(120, 84)\n",
    "        self.fc3 = nn.Linear(84, 10) # 10개 중 하나로 분류 >> 다중분류\n",
    "\n",
    "    def forward(self, x): # 실제 계산 수행\n",
    "        # 최대 풀링은 (2, 2) 윈도우 크기를 사용합니다.\n",
    "        x = F.max_pool2d(F.relu(self.conv1(x)), (2, 2))\n",
    "        # 크기가 정방 사이즈인 경우, 단일 숫자만 지정할 수 있습니다.\n",
    "        x = F.max_pool2d(F.relu(self.conv2(x)), 2)\n",
    "        x = x.view(-1, self.num_flat_features(x))\n",
    "        x = F.relu(self.fc1(x))\n",
    "        x = F.relu(self.fc2(x))\n",
    "        x = self.fc3(x)\n",
    "        return x\n",
    "\n",
    "    def num_flat_features(self, x):\n",
    "        size = x.size()[1:]  # 크기는 배치 차원을 제외한 모든 차원을 가져옵니다.\n",
    "        num_features = 1\n",
    "        for s in size:\n",
    "            num_features *= s # 16 * 6 * 6\n",
    "        return num_features"
   ]
  },
  {
   "cell_type": "markdown",
   "id": "b0e66a6f-051b-4be3-8eb5-b18ba82022f2",
   "metadata": {},
   "source": [
    "연산과정"
   ]
  },
  {
   "cell_type": "code",
   "execution_count": 83,
   "id": "46d4a547-ad9d-4084-b68f-93b639507cc0",
   "metadata": {},
   "outputs": [],
   "source": [
    "conv1 = nn.Conv2d(1, 6, 3)"
   ]
  },
  {
   "cell_type": "code",
   "execution_count": 84,
   "id": "b8bd9095-1b72-4cf6-b7f9-0c8ade14c745",
   "metadata": {},
   "outputs": [],
   "source": [
    "relu = F.relu(conv1(input))"
   ]
  },
  {
   "cell_type": "code",
   "execution_count": 85,
   "id": "66a1e91d-0bed-4103-929a-d3682ef577bc",
   "metadata": {},
   "outputs": [
    {
     "data": {
      "text/plain": [
       "torch.Size([1, 6, 30, 30])"
      ]
     },
     "execution_count": 85,
     "metadata": {},
     "output_type": "execute_result"
    }
   ],
   "source": [
    "relu.shape"
   ]
  },
  {
   "cell_type": "code",
   "execution_count": 86,
   "id": "44a565b5-4a71-47a9-8ba6-87bdbd93c9d1",
   "metadata": {},
   "outputs": [],
   "source": [
    "layer1 = F.max_pool2d(F.relu(conv1(input)), (2, 2))"
   ]
  },
  {
   "cell_type": "code",
   "execution_count": 87,
   "id": "4869d476-d7db-4fdf-b346-5a0c92fd607d",
   "metadata": {},
   "outputs": [
    {
     "data": {
      "text/plain": [
       "torch.Size([1, 6, 15, 15])"
      ]
     },
     "execution_count": 87,
     "metadata": {},
     "output_type": "execute_result"
    }
   ],
   "source": [
    "layer1.shape"
   ]
  },
  {
   "cell_type": "code",
   "execution_count": 102,
   "id": "0ab352f3-e57d-4e1e-ae45-289737f82e83",
   "metadata": {},
   "outputs": [],
   "source": [
    "conv2 = nn.Conv2d(6, 16, 3)"
   ]
  },
  {
   "cell_type": "code",
   "execution_count": 142,
   "id": "0b5d15af-c9a3-43a1-be3c-a1fafaf2612c",
   "metadata": {},
   "outputs": [],
   "source": [
    "layer2 = F.max_pool2d(F.relu(conv2(layer1)), 2)"
   ]
  },
  {
   "cell_type": "code",
   "execution_count": 143,
   "id": "b73939c0-b2a9-4fe5-962c-ed31a45f5203",
   "metadata": {},
   "outputs": [
    {
     "data": {
      "text/plain": [
       "torch.Size([1, 16, 6, 6])"
      ]
     },
     "execution_count": 143,
     "metadata": {},
     "output_type": "execute_result"
    }
   ],
   "source": [
    "layer2.shape"
   ]
  },
  {
   "cell_type": "code",
   "execution_count": 139,
   "id": "a7c42f09-6e1a-4029-bf53-e4a180f84f00",
   "metadata": {},
   "outputs": [],
   "source": [
    "def num_flat_features(x):\n",
    "    size = x.size()[1:]  # 크기는 배치 차원을 제외한 모든 차원을 가져옵니다.\n",
    "    num_features = 1\n",
    "    for s in size:\n",
    "        num_features *= s\n",
    "        print(s)\n",
    "        print(num_features)\n",
    "    return num_features"
   ]
  },
  {
   "cell_type": "code",
   "execution_count": 144,
   "id": "09281733-96e0-4d21-9fc8-7589844ce500",
   "metadata": {},
   "outputs": [
    {
     "name": "stdout",
     "output_type": "stream",
     "text": [
      "16\n",
      "16\n",
      "6\n",
      "96\n",
      "6\n",
      "576\n"
     ]
    },
    {
     "data": {
      "text/plain": [
       "576"
      ]
     },
     "execution_count": 144,
     "metadata": {},
     "output_type": "execute_result"
    }
   ],
   "source": [
    "num_flat_features(layer2)"
   ]
  },
  {
   "cell_type": "code",
   "execution_count": 123,
   "id": "ba6a9a58-3741-4140-bb7b-d4614293eb3d",
   "metadata": {},
   "outputs": [],
   "source": [
    "layer2 = layer2.view(-1, num_flat_features(layer2))"
   ]
  },
  {
   "cell_type": "code",
   "execution_count": 125,
   "id": "99416b06-d0ec-4932-b557-ee8a1692ef21",
   "metadata": {},
   "outputs": [
    {
     "data": {
      "text/plain": [
       "torch.Size([1, 576])"
      ]
     },
     "execution_count": 125,
     "metadata": {},
     "output_type": "execute_result"
    }
   ],
   "source": [
    "layer2.shape"
   ]
  },
  {
   "cell_type": "code",
   "execution_count": 127,
   "id": "a35e8600-164f-40eb-9abe-8c84190500e3",
   "metadata": {},
   "outputs": [],
   "source": [
    "fc1 = nn.Linear(16 * 6 * 6, 120)  # 6*6 이미지 차원\n",
    "fc2 = nn.Linear(120, 84)\n",
    "fc3 = nn.Linear(84, 10)"
   ]
  },
  {
   "cell_type": "code",
   "execution_count": 131,
   "id": "771104d5-d014-4513-af54-6fefe29c76b9",
   "metadata": {},
   "outputs": [
    {
     "data": {
      "text/plain": [
       "torch.Size([1, 120])"
      ]
     },
     "execution_count": 131,
     "metadata": {},
     "output_type": "execute_result"
    }
   ],
   "source": [
    "fc11 = F.relu(fc1(layer2))\n",
    "fc11.shape"
   ]
  },
  {
   "cell_type": "code",
   "execution_count": 132,
   "id": "25ae3f58-d58b-4c3f-92b1-ee2d1f7806e4",
   "metadata": {},
   "outputs": [
    {
     "data": {
      "text/plain": [
       "torch.Size([1, 84])"
      ]
     },
     "execution_count": 132,
     "metadata": {},
     "output_type": "execute_result"
    }
   ],
   "source": [
    "fc22 = F.relu(fc2(fc11))\n",
    "fc22.shape"
   ]
  },
  {
   "cell_type": "code",
   "execution_count": 135,
   "id": "db8999f1-b46c-4b8f-88d7-5de46e8eea01",
   "metadata": {},
   "outputs": [
    {
     "data": {
      "text/plain": [
       "torch.Size([1, 10])"
      ]
     },
     "execution_count": 135,
     "metadata": {},
     "output_type": "execute_result"
    }
   ],
   "source": [
    "fc33 = fc3(fc22)\n",
    "fc33.shape"
   ]
  },
  {
   "cell_type": "code",
   "execution_count": 136,
   "id": "fbdece43-b823-479e-91a1-86ecce4889b7",
   "metadata": {},
   "outputs": [
    {
     "data": {
      "text/plain": [
       "tensor([[-0.0565, -0.1095,  0.0816, -0.0024,  0.0952,  0.0696, -0.0297, -0.0548,\n",
       "          0.1250,  0.1387]], grad_fn=<AddmmBackward0>)"
      ]
     },
     "execution_count": 136,
     "metadata": {},
     "output_type": "execute_result"
    }
   ],
   "source": [
    "fc33"
   ]
  },
  {
   "cell_type": "code",
   "execution_count": 138,
   "id": "3f7c1049-2105-43ad-90ef-b7b485b0422d",
   "metadata": {},
   "outputs": [
    {
     "name": "stdout",
     "output_type": "stream",
     "text": [
      "LeNet(\n",
      "  (conv1): Conv2d(1, 6, kernel_size=(3, 3), stride=(1, 1))\n",
      "  (conv2): Conv2d(6, 16, kernel_size=(3, 3), stride=(1, 1))\n",
      "  (fc1): Linear(in_features=576, out_features=120, bias=True)\n",
      "  (fc2): Linear(in_features=120, out_features=84, bias=True)\n",
      "  (fc3): Linear(in_features=84, out_features=10, bias=True)\n",
      ")\n",
      "\n",
      "이미지 배치 shape:\n",
      "torch.Size([1, 1, 32, 32])\n",
      "\n",
      ":결과 값\n",
      "tensor([[ 0.0033, -0.0866,  0.0448,  0.0051,  0.1252, -0.0780, -0.0906, -0.0132,\n",
      "          0.0785,  0.0333]], grad_fn=<AddmmBackward0>)\n",
      "torch.Size([1, 10])\n"
     ]
    }
   ],
   "source": [
    "# 오브젝트 인스턴스화 및 샘플 입력 실행\n",
    "\n",
    "net = LeNet()\n",
    "print(net)\n",
    "\n",
    "input = torch.rand(1, 1, 32, 32) # 1채널, 32*32사이즈\n",
    "print('\\n이미지 배치 shape:')\n",
    "print(input.shape) # (image 수, channel 수, Height , Width)\n",
    "\n",
    "output = net(input)\n",
    "print('\\n:결과 값')\n",
    "print(output)\n",
    "print(output.shape)"
   ]
  },
  {
   "cell_type": "markdown",
   "id": "1ace7c43-1dcb-4969-adb6-609fee789b29",
   "metadata": {},
   "source": [
    "### Datasets 및 Dataloaders"
   ]
  },
  {
   "cell_type": "markdown",
   "id": "cbf46b4f-c477-40d1-9430-60f0629c7898",
   "metadata": {},
   "source": [
    "TorchVision에서 바로 다운로드할 수 있는 오픈 데이터셋 중 하나를 사용하여 모델을 통해 이미지를 변환하는 방법, DataLoader를 사용하여 모델에 데이터 배치를 제공하는 방법을 학습"
   ]
  },
  {
   "cell_type": "code",
   "execution_count": 2,
   "id": "110d7cd2-0bb1-4c3d-a1e6-50f599588795",
   "metadata": {},
   "outputs": [],
   "source": [
    "# 이미지를 Pytorch tensor로 변환\n",
    "\n",
    "#%matplotlib inline\n",
    "\n",
    "import torch\n",
    "import torchvision\n",
    "import torchvision.transforms as transforms\n",
    "\n",
    "transform = transforms.Compose(\n",
    "    [transforms.ToTensor(), # 이미지를 pytorch tensors 타입으로 변형, pixels 값들을 [0~255]에서 [0.0~1.0]으로 자동 변환\n",
    "     transforms.Normalize((0.5, 0.5, 0.5), (0.5, 0.5, 0.5))]) # normalize, 0~1에서 -1~1로 조정됨"
   ]
  },
  {
   "cell_type": "markdown",
   "id": "6e0cc8be-f0b8-40fe-9525-8f996e5c90b6",
   "metadata": {},
   "source": [
    "transforms.ToTensor() & transofrms.Normalize()\n",
    "> 각 채널별 평균(mean)을 뺀 뒤 표준편차(std)로 나누어 정규화를 진행\n",
    "\n",
    "> transofrms.Normalize((R채널 평균, G채널 평균, B채널 평균), (R채널 표준편차, G채널 표준편차, B채널 표준편차))로 입력하여 적용 가능\n",
    "\n",
    "> 위의 예시와 같이 transforms.ToTensor() 후 (0.5, 0.5, 0.5), (0.5, 0.5, 0.5)로 정규화를 적용하게 되면, RGB 각 채널의 픽셀 값에서 0.5를 뺀 뒤 0.5로 나누어 정규화를 진행\n",
    "\n",
    "> 즉, transforms.ToTensor()가 이미지 픽셀 값의 범위를 0 ~ 1 로 조정했으므로, 최소값(=-1)은 (0 - 0.5) / 0.5 = -1, 최대값(=1) 은 (1 - 0.5) / 0.5 = 1 로 조정됨\n",
    "\n",
    "> 결국, 위의 예시를 적용한 결과는 -1 ~ 1 범위로 변환됨\n",
    "\n",
    "> transforms 는 cropping, centering, rotation, reflection를 포함하여 더 많은 변환이 가능"
   ]
  },
  {
   "cell_type": "code",
   "execution_count": 3,
   "id": "b8a96bca-1ec3-4cb2-b561-e76d1b396336",
   "metadata": {},
   "outputs": [
    {
     "name": "stdout",
     "output_type": "stream",
     "text": [
      "Files already downloaded and verified\n"
     ]
    }
   ],
   "source": [
    "#  CIFAR10 데이터셋 : 동물(새, 고양이, 사슴, 개, 개구리, 말) 6종과 차량(비행기, 자동차, 배, 트럭) 4종의 클래스로 이루어진 데이터셋\n",
    "trainset = torchvision.datasets.CIFAR10(root='./data', train=True,\n",
    "                                        download=True, transform=transform)\n",
    "\n",
    "# root : 데이터를 저장하려는 파일 시스템 경로\n",
    "# train : 데이터셋을 학습에 사용하는지 여부를 확인하여 대부분의 데이터셋은 학습 및 테스트 데이터셋으로 분할됨\n",
    "# download : 데이터셋을 다운로드할지에 대한 여부를 확인\n",
    "# transform : 데이터에 적용하려는 변환 객체를 넣어줌"
   ]
  },
  {
   "cell_type": "code",
   "execution_count": 147,
   "id": "ef98f8a0-dfca-4bea-9fbe-0b723e9eb9e6",
   "metadata": {},
   "outputs": [],
   "source": [
    "trainloader = torch.utils.data.DataLoader(trainset, batch_size=4, \n",
    "                                          shuffle=True, num_workers=2)"
   ]
  },
  {
   "cell_type": "code",
   "execution_count": 148,
   "id": "dabe5dec-5ab7-46f8-ae64-0f8faf06a6f8",
   "metadata": {},
   "outputs": [
    {
     "name": "stdout",
     "output_type": "stream",
     "text": [
      "  car   cat  ship  frog\n"
     ]
    },
    {
     "data": {
      "image/png": "[encoded data removed]",
      "text/plain": [
       "<Figure size 640x480 with 1 Axes>"
      ]
     },
     "metadata": {},
     "output_type": "display_data"
    }
   ],
   "source": [
    "import matplotlib.pyplot as plt\n",
    "import numpy as np\n",
    "\n",
    "classes = ('plane', 'car', 'bird', 'cat',\n",
    "           'deer', 'dog', 'frog', 'horse', 'ship', 'truck')\n",
    "\n",
    "def imshow(img):\n",
    "    img = img / 2 + 0.5     # 역정규화\n",
    "    npimg = img.numpy()\n",
    "    plt.imshow(np.transpose(npimg, (1, 2, 0)))\n",
    "\n",
    "\n",
    "# 무작위로 학습 이미지 추출하기\n",
    "dataiter = iter(trainloader)\n",
    "images, labels = next(dataiter)\n",
    "\n",
    "# 이미지 보여주기\n",
    "imshow(torchvision.utils.make_grid(images))\n",
    "\n",
    "# labels 출력하기\n",
    "print(' '.join('%5s' % classes[labels[j]] for j in range(4)))"
   ]
  },
  {
   "cell_type": "markdown",
   "id": "e1edcedb-e296-4df3-9366-dbc058597529",
   "metadata": {},
   "source": [
    "### Pytorch 모델 학습"
   ]
  },
  {
   "cell_type": "code",
   "execution_count": 149,
   "id": "9021a44b-98cf-41c9-9b5e-d40d8182dc30",
   "metadata": {},
   "outputs": [],
   "source": [
    "#%matplotlib inline\n",
    "\n",
    "import torch\n",
    "import torch.nn as nn\n",
    "import torch.nn.functional as F\n",
    "import torch.optim as optim\n",
    "\n",
    "import torchvision\n",
    "import torchvision.transforms as transforms\n",
    "\n",
    "import matplotlib\n",
    "import matplotlib.pyplot as plt\n",
    "import numpy as np"
   ]
  },
  {
   "cell_type": "code",
   "execution_count": 150,
   "id": "3e36a76c-8cee-43fd-ab9b-9ee89d67741e",
   "metadata": {},
   "outputs": [
    {
     "name": "stdout",
     "output_type": "stream",
     "text": [
      "Files already downloaded and verified\n",
      "Files already downloaded and verified\n"
     ]
    }
   ],
   "source": [
    "transform = transforms.Compose(\n",
    "    [transforms.ToTensor(),\n",
    "     transforms.Normalize((0.5, 0.5, 0.5), (0.5, 0.5, 0.5))])\n",
    "\n",
    "trainset = torchvision.datasets.CIFAR10(root='./data', train=True,\n",
    "                                        download=True, transform=transform)\n",
    "trainloader = torch.utils.data.DataLoader(trainset, batch_size=4,\n",
    "                                          shuffle=True, num_workers=2)\n",
    "\n",
    "testset = torchvision.datasets.CIFAR10(root='./data', train=False,\n",
    "                                       download=True, transform=transform)\n",
    "testloader = torch.utils.data.DataLoader(testset, batch_size=4,\n",
    "                                         shuffle=False, num_workers=2)\n",
    "\n",
    "classes = ('plane', 'car', 'bird', 'cat',\n",
    "           'deer', 'dog', 'frog', 'horse', 'ship', 'truck')"
   ]
  },
  {
   "cell_type": "code",
   "execution_count": 151,
   "id": "9d0d576d-67f5-4b61-b059-f1a82261010a",
   "metadata": {},
   "outputs": [
    {
     "name": "stdout",
     "output_type": "stream",
     "text": [
      "truck   car  frog  deer\n"
     ]
    },
    {
     "data": {
      "image/png": "[encoded data removed]",
      "text/plain": [
       "<Figure size 640x480 with 1 Axes>"
      ]
     },
     "metadata": {},
     "output_type": "display_data"
    }
   ],
   "source": [
    "import matplotlib.pyplot as plt\n",
    "import numpy as np\n",
    "\n",
    "# 아래 함수는 이미지를 시각화하여 보여주는 함수입니다.\n",
    "def imshow(img):\n",
    "    img = img / 2 + 0.5     # 역정규화\n",
    "    npimg = img.numpy()\n",
    "    plt.imshow(np.transpose(npimg, (1, 2, 0)))\n",
    "\n",
    "\n",
    "# 무작위로 학습 이미지를 가져오기\n",
    "dataiter = iter(trainloader)\n",
    "images, labels = next(dataiter)\n",
    "\n",
    "# 이미지 시각화하기\n",
    "imshow(torchvision.utils.make_grid(images))\n",
    "# 정답 label 출력하기\n",
    "print(' '.join('%5s' % classes[labels[j]] for j in range(4)))"
   ]
  },
  {
   "cell_type": "code",
   "execution_count": 152,
   "id": "345ae279-f445-4c53-bd3b-c82d469d0a11",
   "metadata": {},
   "outputs": [],
   "source": [
    "class Net(nn.Module):\n",
    "    def __init__(self):\n",
    "        super(Net, self).__init__()\n",
    "        self.conv1 = nn.Conv2d(3, 6, 5)\n",
    "        self.pool = nn.MaxPool2d(2, 2)\n",
    "        self.conv2 = nn.Conv2d(6, 16, 5)\n",
    "        self.fc1 = nn.Linear(16 * 5 * 5, 120)\n",
    "        self.fc2 = nn.Linear(120, 84)\n",
    "        self.fc3 = nn.Linear(84, 10)\n",
    "\n",
    "    def forward(self, x):\n",
    "        x = self.pool(F.relu(self.conv1(x)))\n",
    "        x = self.pool(F.relu(self.conv2(x)))\n",
    "        x = x.view(-1, 16 * 5 * 5)\n",
    "        x = F.relu(self.fc1(x))\n",
    "        x = F.relu(self.fc2(x))\n",
    "        x = self.fc3(x)\n",
    "        return x\n",
    "\n",
    "\n",
    "net = Net()"
   ]
  },
  {
   "cell_type": "code",
   "execution_count": 153,
   "id": "ffa63bd1-8388-4128-8928-428d61a9dcd3",
   "metadata": {},
   "outputs": [],
   "source": [
    "criterion = nn.CrossEntropyLoss() # 손실함수 : 데이터 기반으로 모델이 예측한 정답 값이 얼마나 차이가 나는지를 표현하는 지표\n",
    "optimizer = optim.SGD(net.parameters(), lr=0.001, momentum=0.9)"
   ]
  },
  {
   "cell_type": "code",
   "execution_count": 154,
   "id": "4678a712-0611-477f-b233-6f6b2c9f11fe",
   "metadata": {},
   "outputs": [
    {
     "name": "stdout",
     "output_type": "stream",
     "text": [
      "[1,  2000] loss: 2.228\n",
      "[1,  4000] loss: 1.887\n",
      "[1,  6000] loss: 1.687\n",
      "[1,  8000] loss: 1.591\n",
      "[1, 10000] loss: 1.515\n",
      "[1, 12000] loss: 1.488\n",
      "[2,  2000] loss: 1.396\n",
      "[2,  4000] loss: 1.374\n",
      "[2,  6000] loss: 1.360\n",
      "[2,  8000] loss: 1.337\n",
      "[2, 10000] loss: 1.318\n",
      "[2, 12000] loss: 1.281\n",
      "Finished Training\n"
     ]
    }
   ],
   "source": [
    "for epoch in range(2):  # 데이터셋을 여러 번 반복 학습합니다.\n",
    "\n",
    "    running_loss = 0.0\n",
    "    for i, data in enumerate(trainloader, 0):\n",
    "        # 데이터를 통해 이미지와 정답값을 받습니다.\n",
    "        inputs, labels = data\n",
    "\n",
    "        # 초기 기울기 파라미터를 0으로 설정합니다\n",
    "        # 기울기는 batch에 걸쳐 누적됨\n",
    "        # 모든 batch에 대해 기울기 값을 재설정하지 않으면 기울기 값이 계속 누적되어 잘못된 기울기 값 제공하게 되어 학습 불가능함\n",
    "        optimizer.zero_grad()\n",
    "\n",
    "        # forward + backward + optimize >> backward() 를 통해 손실 값을 줄일 수 있는 방향으로 학습 가중치들을 조정함\n",
    "        outputs = net(inputs)\n",
    "        loss = criterion(outputs, labels)\n",
    "        loss.backward()\n",
    "        optimizer.step()\n",
    "\n",
    "        # epoch 및 loss 값을 출력합니다\n",
    "        running_loss += loss.item()\n",
    "        if i % 2000 == 1999:    # 2000 mini-batches 마다 값을 출력합니다\n",
    "            print('[%d, %5d] loss: %.3f' %\n",
    "                  (epoch + 1, i + 1, running_loss / 2000))\n",
    "            running_loss = 0.0\n",
    "\n",
    "print('Finished Training')"
   ]
  },
  {
   "cell_type": "code",
   "execution_count": 155,
   "id": "f84edee3-6f22-4e1b-931b-ed52f638b943",
   "metadata": {},
   "outputs": [
    {
     "name": "stdout",
     "output_type": "stream",
     "text": [
      "10000개 테스트 이미지에서 모델 정확도: 55 %\n"
     ]
    }
   ],
   "source": [
    "# Test 수행하여 모델의 일반성을 테스트함 >> 학습되지 않은 데이터에에 대해 예측\n",
    "\n",
    "correct = 0\n",
    "total = 0\n",
    "with torch.no_grad():\n",
    "    for data in testloader:\n",
    "        images, labels = data\n",
    "        outputs = net(images)\n",
    "        _, predicted = torch.max(outputs.data, 1)\n",
    "        total += labels.size(0)\n",
    "        correct += (predicted == labels).sum().item()\n",
    "\n",
    "print('10000개 테스트 이미지에서 모델 정확도: %d %%' % (\n",
    "    100 * correct / total))"
   ]
  },
  {
   "cell_type": "code",
   "execution_count": null,
   "id": "2ce66b7a-cfff-4a0d-a503-0866f56980f8",
   "metadata": {},
   "outputs": [],
   "source": []
  },
  {
   "cell_type": "code",
   "execution_count": null,
   "id": "2312c060-7768-4a76-98a8-64715587c512",
   "metadata": {},
   "outputs": [],
   "source": []
  },
  {
   "cell_type": "code",
   "execution_count": null,
   "id": "593be7f7-b0ab-42a3-a951-5a6592d1260f",
   "metadata": {},
   "outputs": [],
   "source": []
  },
  {
   "cell_type": "code",
   "execution_count": null,
   "id": "114f2558-f990-4ad2-8e61-c9e94ca0770e",
   "metadata": {},
   "outputs": [],
   "source": []
  },
  {
   "cell_type": "code",
   "execution_count": null,
   "id": "a99007cd-bc01-4e7a-a3d7-96cf59b49d43",
   "metadata": {},
   "outputs": [],
   "source": []
  },
  {
   "cell_type": "code",
   "execution_count": null,
   "id": "1a36b627-c170-4123-a2eb-7bd90968c4fa",
   "metadata": {},
   "outputs": [],
   "source": []
  },
  {
   "cell_type": "code",
   "execution_count": null,
   "id": "8cd0ed75-0a1f-4f0e-9faa-31e2214cef3e",
   "metadata": {},
   "outputs": [],
   "source": []
  }
 ],
 "metadata": {
  "kernelspec": {
   "display_name": "Python 3 (ipykernel)",
   "language": "python",
   "name": "python3"
  },
  "language_info": {
   "codemirror_mode": {
    "name": "ipython",
    "version": 3
   },
   "file_extension": ".py",
   "mimetype": "text/x-python",
   "name": "python",
   "nbconvert_exporter": "python",
   "pygments_lexer": "ipython3",
   "version": "3.9.7"
  }
 },
 "nbformat": 4,
 "nbformat_minor": 5
}
